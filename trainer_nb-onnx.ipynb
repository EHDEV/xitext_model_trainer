{
  "nbformat": 4,
  "nbformat_minor": 0,
  "metadata": {
    "colab": {
      "name": "trainer-nb.ipynb",
      "provenance": [],
      "collapsed_sections": [],
      "mount_file_id": "https://github.com/EHDEV/xitext_model_trainer/blob/main/trainer_nb-onnx.ipynb",
      "authorship_tag": "ABX9TyPupGnMm13J5zLRfjU+u92P",
      "include_colab_link": true
    },
    "kernelspec": {
      "name": "python3",
      "display_name": "Python 3"
    },
    "accelerator": "GPU",
    "widgets": {
      "application/vnd.jupyter.widget-state+json": {
        "909f55ebc6a6401093620d0c2075e54f": {
          "model_module": "@jupyter-widgets/controls",
          "model_name": "HBoxModel",
          "state": {
            "_view_name": "HBoxView",
            "_dom_classes": [],
            "_model_name": "HBoxModel",
            "_view_module": "@jupyter-widgets/controls",
            "_model_module_version": "1.5.0",
            "_view_count": null,
            "_view_module_version": "1.5.0",
            "box_style": "",
            "layout": "IPY_MODEL_e690e30b5d18495bab0305fc38c40e28",
            "_model_module": "@jupyter-widgets/controls",
            "children": [
              "IPY_MODEL_6e844fb4285a418a90e996f236e8a121",
              "IPY_MODEL_427920965f9143589b872f30ee5105dc"
            ]
          }
        },
        "e690e30b5d18495bab0305fc38c40e28": {
          "model_module": "@jupyter-widgets/base",
          "model_name": "LayoutModel",
          "state": {
            "_view_name": "LayoutView",
            "grid_template_rows": null,
            "right": null,
            "justify_content": null,
            "_view_module": "@jupyter-widgets/base",
            "overflow": null,
            "_model_module_version": "1.2.0",
            "_view_count": null,
            "flex_flow": null,
            "width": null,
            "min_width": null,
            "border": null,
            "align_items": null,
            "bottom": null,
            "_model_module": "@jupyter-widgets/base",
            "top": null,
            "grid_column": null,
            "overflow_y": null,
            "overflow_x": null,
            "grid_auto_flow": null,
            "grid_area": null,
            "grid_template_columns": null,
            "flex": null,
            "_model_name": "LayoutModel",
            "justify_items": null,
            "grid_row": null,
            "max_height": null,
            "align_content": null,
            "visibility": null,
            "align_self": null,
            "height": null,
            "min_height": null,
            "padding": null,
            "grid_auto_rows": null,
            "grid_gap": null,
            "max_width": null,
            "order": null,
            "_view_module_version": "1.2.0",
            "grid_template_areas": null,
            "object_position": null,
            "object_fit": null,
            "grid_auto_columns": null,
            "margin": null,
            "display": null,
            "left": null
          }
        },
        "6e844fb4285a418a90e996f236e8a121": {
          "model_module": "@jupyter-widgets/controls",
          "model_name": "FloatProgressModel",
          "state": {
            "_view_name": "ProgressView",
            "style": "IPY_MODEL_815d0c66696642bb8fc5247b9af127c0",
            "_dom_classes": [],
            "description": "Downloading: 100%",
            "_model_name": "FloatProgressModel",
            "bar_style": "success",
            "max": 231508,
            "_view_module": "@jupyter-widgets/controls",
            "_model_module_version": "1.5.0",
            "value": 231508,
            "_view_count": null,
            "_view_module_version": "1.5.0",
            "orientation": "horizontal",
            "min": 0,
            "description_tooltip": null,
            "_model_module": "@jupyter-widgets/controls",
            "layout": "IPY_MODEL_cc9d0a7a742b4030b7094ff49e997ed7"
          }
        },
        "427920965f9143589b872f30ee5105dc": {
          "model_module": "@jupyter-widgets/controls",
          "model_name": "HTMLModel",
          "state": {
            "_view_name": "HTMLView",
            "style": "IPY_MODEL_56d2b55d8a3f42f683896b6acb224aba",
            "_dom_classes": [],
            "description": "",
            "_model_name": "HTMLModel",
            "placeholder": "​",
            "_view_module": "@jupyter-widgets/controls",
            "_model_module_version": "1.5.0",
            "value": " 232k/232k [00:06&lt;00:00, 36.4kB/s]",
            "_view_count": null,
            "_view_module_version": "1.5.0",
            "description_tooltip": null,
            "_model_module": "@jupyter-widgets/controls",
            "layout": "IPY_MODEL_7cdbed87d2d246bcb5acfdebcd841ef5"
          }
        },
        "815d0c66696642bb8fc5247b9af127c0": {
          "model_module": "@jupyter-widgets/controls",
          "model_name": "ProgressStyleModel",
          "state": {
            "_view_name": "StyleView",
            "_model_name": "ProgressStyleModel",
            "description_width": "initial",
            "_view_module": "@jupyter-widgets/base",
            "_model_module_version": "1.5.0",
            "_view_count": null,
            "_view_module_version": "1.2.0",
            "bar_color": null,
            "_model_module": "@jupyter-widgets/controls"
          }
        },
        "cc9d0a7a742b4030b7094ff49e997ed7": {
          "model_module": "@jupyter-widgets/base",
          "model_name": "LayoutModel",
          "state": {
            "_view_name": "LayoutView",
            "grid_template_rows": null,
            "right": null,
            "justify_content": null,
            "_view_module": "@jupyter-widgets/base",
            "overflow": null,
            "_model_module_version": "1.2.0",
            "_view_count": null,
            "flex_flow": null,
            "width": null,
            "min_width": null,
            "border": null,
            "align_items": null,
            "bottom": null,
            "_model_module": "@jupyter-widgets/base",
            "top": null,
            "grid_column": null,
            "overflow_y": null,
            "overflow_x": null,
            "grid_auto_flow": null,
            "grid_area": null,
            "grid_template_columns": null,
            "flex": null,
            "_model_name": "LayoutModel",
            "justify_items": null,
            "grid_row": null,
            "max_height": null,
            "align_content": null,
            "visibility": null,
            "align_self": null,
            "height": null,
            "min_height": null,
            "padding": null,
            "grid_auto_rows": null,
            "grid_gap": null,
            "max_width": null,
            "order": null,
            "_view_module_version": "1.2.0",
            "grid_template_areas": null,
            "object_position": null,
            "object_fit": null,
            "grid_auto_columns": null,
            "margin": null,
            "display": null,
            "left": null
          }
        },
        "56d2b55d8a3f42f683896b6acb224aba": {
          "model_module": "@jupyter-widgets/controls",
          "model_name": "DescriptionStyleModel",
          "state": {
            "_view_name": "StyleView",
            "_model_name": "DescriptionStyleModel",
            "description_width": "",
            "_view_module": "@jupyter-widgets/base",
            "_model_module_version": "1.5.0",
            "_view_count": null,
            "_view_module_version": "1.2.0",
            "_model_module": "@jupyter-widgets/controls"
          }
        },
        "7cdbed87d2d246bcb5acfdebcd841ef5": {
          "model_module": "@jupyter-widgets/base",
          "model_name": "LayoutModel",
          "state": {
            "_view_name": "LayoutView",
            "grid_template_rows": null,
            "right": null,
            "justify_content": null,
            "_view_module": "@jupyter-widgets/base",
            "overflow": null,
            "_model_module_version": "1.2.0",
            "_view_count": null,
            "flex_flow": null,
            "width": null,
            "min_width": null,
            "border": null,
            "align_items": null,
            "bottom": null,
            "_model_module": "@jupyter-widgets/base",
            "top": null,
            "grid_column": null,
            "overflow_y": null,
            "overflow_x": null,
            "grid_auto_flow": null,
            "grid_area": null,
            "grid_template_columns": null,
            "flex": null,
            "_model_name": "LayoutModel",
            "justify_items": null,
            "grid_row": null,
            "max_height": null,
            "align_content": null,
            "visibility": null,
            "align_self": null,
            "height": null,
            "min_height": null,
            "padding": null,
            "grid_auto_rows": null,
            "grid_gap": null,
            "max_width": null,
            "order": null,
            "_view_module_version": "1.2.0",
            "grid_template_areas": null,
            "object_position": null,
            "object_fit": null,
            "grid_auto_columns": null,
            "margin": null,
            "display": null,
            "left": null
          }
        },
        "b2b36335529d49cd864742cda2033d60": {
          "model_module": "@jupyter-widgets/controls",
          "model_name": "HBoxModel",
          "state": {
            "_view_name": "HBoxView",
            "_dom_classes": [],
            "_model_name": "HBoxModel",
            "_view_module": "@jupyter-widgets/controls",
            "_model_module_version": "1.5.0",
            "_view_count": null,
            "_view_module_version": "1.5.0",
            "box_style": "",
            "layout": "IPY_MODEL_e8298b0b4ce0443fa4760d3ca02fcbfb",
            "_model_module": "@jupyter-widgets/controls",
            "children": [
              "IPY_MODEL_52beb33a7a8e4ca38d0563cd7122e657",
              "IPY_MODEL_ab33a99924284837baafde3c9238eb9a"
            ]
          }
        },
        "e8298b0b4ce0443fa4760d3ca02fcbfb": {
          "model_module": "@jupyter-widgets/base",
          "model_name": "LayoutModel",
          "state": {
            "_view_name": "LayoutView",
            "grid_template_rows": null,
            "right": null,
            "justify_content": null,
            "_view_module": "@jupyter-widgets/base",
            "overflow": null,
            "_model_module_version": "1.2.0",
            "_view_count": null,
            "flex_flow": null,
            "width": null,
            "min_width": null,
            "border": null,
            "align_items": null,
            "bottom": null,
            "_model_module": "@jupyter-widgets/base",
            "top": null,
            "grid_column": null,
            "overflow_y": null,
            "overflow_x": null,
            "grid_auto_flow": null,
            "grid_area": null,
            "grid_template_columns": null,
            "flex": null,
            "_model_name": "LayoutModel",
            "justify_items": null,
            "grid_row": null,
            "max_height": null,
            "align_content": null,
            "visibility": null,
            "align_self": null,
            "height": null,
            "min_height": null,
            "padding": null,
            "grid_auto_rows": null,
            "grid_gap": null,
            "max_width": null,
            "order": null,
            "_view_module_version": "1.2.0",
            "grid_template_areas": null,
            "object_position": null,
            "object_fit": null,
            "grid_auto_columns": null,
            "margin": null,
            "display": null,
            "left": null
          }
        },
        "52beb33a7a8e4ca38d0563cd7122e657": {
          "model_module": "@jupyter-widgets/controls",
          "model_name": "FloatProgressModel",
          "state": {
            "_view_name": "ProgressView",
            "style": "IPY_MODEL_753256df1e1840949133c8736af631c0",
            "_dom_classes": [],
            "description": "Downloading: 100%",
            "_model_name": "FloatProgressModel",
            "bar_style": "success",
            "max": 466062,
            "_view_module": "@jupyter-widgets/controls",
            "_model_module_version": "1.5.0",
            "value": 466062,
            "_view_count": null,
            "_view_module_version": "1.5.0",
            "orientation": "horizontal",
            "min": 0,
            "description_tooltip": null,
            "_model_module": "@jupyter-widgets/controls",
            "layout": "IPY_MODEL_d2e7da390e5f4ea6bf263f5151d59931"
          }
        },
        "ab33a99924284837baafde3c9238eb9a": {
          "model_module": "@jupyter-widgets/controls",
          "model_name": "HTMLModel",
          "state": {
            "_view_name": "HTMLView",
            "style": "IPY_MODEL_b2d2dc1487d842f19a71f470f338885d",
            "_dom_classes": [],
            "description": "",
            "_model_name": "HTMLModel",
            "placeholder": "​",
            "_view_module": "@jupyter-widgets/controls",
            "_model_module_version": "1.5.0",
            "value": " 466k/466k [00:05&lt;00:00, 82.5kB/s]",
            "_view_count": null,
            "_view_module_version": "1.5.0",
            "description_tooltip": null,
            "_model_module": "@jupyter-widgets/controls",
            "layout": "IPY_MODEL_bb466b4d980640959633208f07089d72"
          }
        },
        "753256df1e1840949133c8736af631c0": {
          "model_module": "@jupyter-widgets/controls",
          "model_name": "ProgressStyleModel",
          "state": {
            "_view_name": "StyleView",
            "_model_name": "ProgressStyleModel",
            "description_width": "initial",
            "_view_module": "@jupyter-widgets/base",
            "_model_module_version": "1.5.0",
            "_view_count": null,
            "_view_module_version": "1.2.0",
            "bar_color": null,
            "_model_module": "@jupyter-widgets/controls"
          }
        },
        "d2e7da390e5f4ea6bf263f5151d59931": {
          "model_module": "@jupyter-widgets/base",
          "model_name": "LayoutModel",
          "state": {
            "_view_name": "LayoutView",
            "grid_template_rows": null,
            "right": null,
            "justify_content": null,
            "_view_module": "@jupyter-widgets/base",
            "overflow": null,
            "_model_module_version": "1.2.0",
            "_view_count": null,
            "flex_flow": null,
            "width": null,
            "min_width": null,
            "border": null,
            "align_items": null,
            "bottom": null,
            "_model_module": "@jupyter-widgets/base",
            "top": null,
            "grid_column": null,
            "overflow_y": null,
            "overflow_x": null,
            "grid_auto_flow": null,
            "grid_area": null,
            "grid_template_columns": null,
            "flex": null,
            "_model_name": "LayoutModel",
            "justify_items": null,
            "grid_row": null,
            "max_height": null,
            "align_content": null,
            "visibility": null,
            "align_self": null,
            "height": null,
            "min_height": null,
            "padding": null,
            "grid_auto_rows": null,
            "grid_gap": null,
            "max_width": null,
            "order": null,
            "_view_module_version": "1.2.0",
            "grid_template_areas": null,
            "object_position": null,
            "object_fit": null,
            "grid_auto_columns": null,
            "margin": null,
            "display": null,
            "left": null
          }
        },
        "b2d2dc1487d842f19a71f470f338885d": {
          "model_module": "@jupyter-widgets/controls",
          "model_name": "DescriptionStyleModel",
          "state": {
            "_view_name": "StyleView",
            "_model_name": "DescriptionStyleModel",
            "description_width": "",
            "_view_module": "@jupyter-widgets/base",
            "_model_module_version": "1.5.0",
            "_view_count": null,
            "_view_module_version": "1.2.0",
            "_model_module": "@jupyter-widgets/controls"
          }
        },
        "bb466b4d980640959633208f07089d72": {
          "model_module": "@jupyter-widgets/base",
          "model_name": "LayoutModel",
          "state": {
            "_view_name": "LayoutView",
            "grid_template_rows": null,
            "right": null,
            "justify_content": null,
            "_view_module": "@jupyter-widgets/base",
            "overflow": null,
            "_model_module_version": "1.2.0",
            "_view_count": null,
            "flex_flow": null,
            "width": null,
            "min_width": null,
            "border": null,
            "align_items": null,
            "bottom": null,
            "_model_module": "@jupyter-widgets/base",
            "top": null,
            "grid_column": null,
            "overflow_y": null,
            "overflow_x": null,
            "grid_auto_flow": null,
            "grid_area": null,
            "grid_template_columns": null,
            "flex": null,
            "_model_name": "LayoutModel",
            "justify_items": null,
            "grid_row": null,
            "max_height": null,
            "align_content": null,
            "visibility": null,
            "align_self": null,
            "height": null,
            "min_height": null,
            "padding": null,
            "grid_auto_rows": null,
            "grid_gap": null,
            "max_width": null,
            "order": null,
            "_view_module_version": "1.2.0",
            "grid_template_areas": null,
            "object_position": null,
            "object_fit": null,
            "grid_auto_columns": null,
            "margin": null,
            "display": null,
            "left": null
          }
        },
        "7ec8cfbc57b940bb8dac620ed0502928": {
          "model_module": "@jupyter-widgets/controls",
          "model_name": "HBoxModel",
          "state": {
            "_view_name": "HBoxView",
            "_dom_classes": [],
            "_model_name": "HBoxModel",
            "_view_module": "@jupyter-widgets/controls",
            "_model_module_version": "1.5.0",
            "_view_count": null,
            "_view_module_version": "1.5.0",
            "box_style": "",
            "layout": "IPY_MODEL_fa02665416aa4012a02921bb8de96fbc",
            "_model_module": "@jupyter-widgets/controls",
            "children": [
              "IPY_MODEL_9a5ecd59aa614146a33ee5fba72744e8",
              "IPY_MODEL_69bd2bd00eb34149a79a20fa51681bbd"
            ]
          }
        },
        "fa02665416aa4012a02921bb8de96fbc": {
          "model_module": "@jupyter-widgets/base",
          "model_name": "LayoutModel",
          "state": {
            "_view_name": "LayoutView",
            "grid_template_rows": null,
            "right": null,
            "justify_content": null,
            "_view_module": "@jupyter-widgets/base",
            "overflow": null,
            "_model_module_version": "1.2.0",
            "_view_count": null,
            "flex_flow": null,
            "width": null,
            "min_width": null,
            "border": null,
            "align_items": null,
            "bottom": null,
            "_model_module": "@jupyter-widgets/base",
            "top": null,
            "grid_column": null,
            "overflow_y": null,
            "overflow_x": null,
            "grid_auto_flow": null,
            "grid_area": null,
            "grid_template_columns": null,
            "flex": null,
            "_model_name": "LayoutModel",
            "justify_items": null,
            "grid_row": null,
            "max_height": null,
            "align_content": null,
            "visibility": null,
            "align_self": null,
            "height": null,
            "min_height": null,
            "padding": null,
            "grid_auto_rows": null,
            "grid_gap": null,
            "max_width": null,
            "order": null,
            "_view_module_version": "1.2.0",
            "grid_template_areas": null,
            "object_position": null,
            "object_fit": null,
            "grid_auto_columns": null,
            "margin": null,
            "display": null,
            "left": null
          }
        },
        "9a5ecd59aa614146a33ee5fba72744e8": {
          "model_module": "@jupyter-widgets/controls",
          "model_name": "FloatProgressModel",
          "state": {
            "_view_name": "ProgressView",
            "style": "IPY_MODEL_d40a231b5f6e40a2b9c9e3f834414795",
            "_dom_classes": [],
            "description": "Downloading: 100%",
            "_model_name": "FloatProgressModel",
            "bar_style": "success",
            "max": 442,
            "_view_module": "@jupyter-widgets/controls",
            "_model_module_version": "1.5.0",
            "value": 442,
            "_view_count": null,
            "_view_module_version": "1.5.0",
            "orientation": "horizontal",
            "min": 0,
            "description_tooltip": null,
            "_model_module": "@jupyter-widgets/controls",
            "layout": "IPY_MODEL_51a0335e119340b4873caaf0593ce431"
          }
        },
        "69bd2bd00eb34149a79a20fa51681bbd": {
          "model_module": "@jupyter-widgets/controls",
          "model_name": "HTMLModel",
          "state": {
            "_view_name": "HTMLView",
            "style": "IPY_MODEL_20aed41b5e11496a8c3f209492ecd30b",
            "_dom_classes": [],
            "description": "",
            "_model_name": "HTMLModel",
            "placeholder": "​",
            "_view_module": "@jupyter-widgets/controls",
            "_model_module_version": "1.5.0",
            "value": " 442/442 [00:00&lt;00:00, 1.19kB/s]",
            "_view_count": null,
            "_view_module_version": "1.5.0",
            "description_tooltip": null,
            "_model_module": "@jupyter-widgets/controls",
            "layout": "IPY_MODEL_2a890a460b9f4ad4a53db974e2ad08aa"
          }
        },
        "d40a231b5f6e40a2b9c9e3f834414795": {
          "model_module": "@jupyter-widgets/controls",
          "model_name": "ProgressStyleModel",
          "state": {
            "_view_name": "StyleView",
            "_model_name": "ProgressStyleModel",
            "description_width": "initial",
            "_view_module": "@jupyter-widgets/base",
            "_model_module_version": "1.5.0",
            "_view_count": null,
            "_view_module_version": "1.2.0",
            "bar_color": null,
            "_model_module": "@jupyter-widgets/controls"
          }
        },
        "51a0335e119340b4873caaf0593ce431": {
          "model_module": "@jupyter-widgets/base",
          "model_name": "LayoutModel",
          "state": {
            "_view_name": "LayoutView",
            "grid_template_rows": null,
            "right": null,
            "justify_content": null,
            "_view_module": "@jupyter-widgets/base",
            "overflow": null,
            "_model_module_version": "1.2.0",
            "_view_count": null,
            "flex_flow": null,
            "width": null,
            "min_width": null,
            "border": null,
            "align_items": null,
            "bottom": null,
            "_model_module": "@jupyter-widgets/base",
            "top": null,
            "grid_column": null,
            "overflow_y": null,
            "overflow_x": null,
            "grid_auto_flow": null,
            "grid_area": null,
            "grid_template_columns": null,
            "flex": null,
            "_model_name": "LayoutModel",
            "justify_items": null,
            "grid_row": null,
            "max_height": null,
            "align_content": null,
            "visibility": null,
            "align_self": null,
            "height": null,
            "min_height": null,
            "padding": null,
            "grid_auto_rows": null,
            "grid_gap": null,
            "max_width": null,
            "order": null,
            "_view_module_version": "1.2.0",
            "grid_template_areas": null,
            "object_position": null,
            "object_fit": null,
            "grid_auto_columns": null,
            "margin": null,
            "display": null,
            "left": null
          }
        },
        "20aed41b5e11496a8c3f209492ecd30b": {
          "model_module": "@jupyter-widgets/controls",
          "model_name": "DescriptionStyleModel",
          "state": {
            "_view_name": "StyleView",
            "_model_name": "DescriptionStyleModel",
            "description_width": "",
            "_view_module": "@jupyter-widgets/base",
            "_model_module_version": "1.5.0",
            "_view_count": null,
            "_view_module_version": "1.2.0",
            "_model_module": "@jupyter-widgets/controls"
          }
        },
        "2a890a460b9f4ad4a53db974e2ad08aa": {
          "model_module": "@jupyter-widgets/base",
          "model_name": "LayoutModel",
          "state": {
            "_view_name": "LayoutView",
            "grid_template_rows": null,
            "right": null,
            "justify_content": null,
            "_view_module": "@jupyter-widgets/base",
            "overflow": null,
            "_model_module_version": "1.2.0",
            "_view_count": null,
            "flex_flow": null,
            "width": null,
            "min_width": null,
            "border": null,
            "align_items": null,
            "bottom": null,
            "_model_module": "@jupyter-widgets/base",
            "top": null,
            "grid_column": null,
            "overflow_y": null,
            "overflow_x": null,
            "grid_auto_flow": null,
            "grid_area": null,
            "grid_template_columns": null,
            "flex": null,
            "_model_name": "LayoutModel",
            "justify_items": null,
            "grid_row": null,
            "max_height": null,
            "align_content": null,
            "visibility": null,
            "align_self": null,
            "height": null,
            "min_height": null,
            "padding": null,
            "grid_auto_rows": null,
            "grid_gap": null,
            "max_width": null,
            "order": null,
            "_view_module_version": "1.2.0",
            "grid_template_areas": null,
            "object_position": null,
            "object_fit": null,
            "grid_auto_columns": null,
            "margin": null,
            "display": null,
            "left": null
          }
        },
        "ab67ab62613d4133b401eec5aa73eabb": {
          "model_module": "@jupyter-widgets/controls",
          "model_name": "HBoxModel",
          "state": {
            "_view_name": "HBoxView",
            "_dom_classes": [],
            "_model_name": "HBoxModel",
            "_view_module": "@jupyter-widgets/controls",
            "_model_module_version": "1.5.0",
            "_view_count": null,
            "_view_module_version": "1.5.0",
            "box_style": "",
            "layout": "IPY_MODEL_48149fa688484bd8a52c60941b18b8e8",
            "_model_module": "@jupyter-widgets/controls",
            "children": [
              "IPY_MODEL_c812ea78ea94448fa49caa8c1985c2f0",
              "IPY_MODEL_eb2cf28b90ec40919ab4d628d714767a"
            ]
          }
        },
        "48149fa688484bd8a52c60941b18b8e8": {
          "model_module": "@jupyter-widgets/base",
          "model_name": "LayoutModel",
          "state": {
            "_view_name": "LayoutView",
            "grid_template_rows": null,
            "right": null,
            "justify_content": null,
            "_view_module": "@jupyter-widgets/base",
            "overflow": null,
            "_model_module_version": "1.2.0",
            "_view_count": null,
            "flex_flow": null,
            "width": null,
            "min_width": null,
            "border": null,
            "align_items": null,
            "bottom": null,
            "_model_module": "@jupyter-widgets/base",
            "top": null,
            "grid_column": null,
            "overflow_y": null,
            "overflow_x": null,
            "grid_auto_flow": null,
            "grid_area": null,
            "grid_template_columns": null,
            "flex": null,
            "_model_name": "LayoutModel",
            "justify_items": null,
            "grid_row": null,
            "max_height": null,
            "align_content": null,
            "visibility": null,
            "align_self": null,
            "height": null,
            "min_height": null,
            "padding": null,
            "grid_auto_rows": null,
            "grid_gap": null,
            "max_width": null,
            "order": null,
            "_view_module_version": "1.2.0",
            "grid_template_areas": null,
            "object_position": null,
            "object_fit": null,
            "grid_auto_columns": null,
            "margin": null,
            "display": null,
            "left": null
          }
        },
        "c812ea78ea94448fa49caa8c1985c2f0": {
          "model_module": "@jupyter-widgets/controls",
          "model_name": "FloatProgressModel",
          "state": {
            "_view_name": "ProgressView",
            "style": "IPY_MODEL_01f2153ab6144618b33c403080b7821d",
            "_dom_classes": [],
            "description": "Downloading: 100%",
            "_model_name": "FloatProgressModel",
            "bar_style": "success",
            "max": 267967963,
            "_view_module": "@jupyter-widgets/controls",
            "_model_module_version": "1.5.0",
            "value": 267967963,
            "_view_count": null,
            "_view_module_version": "1.5.0",
            "orientation": "horizontal",
            "min": 0,
            "description_tooltip": null,
            "_model_module": "@jupyter-widgets/controls",
            "layout": "IPY_MODEL_0910b79a89c8486e92628868d7eda939"
          }
        },
        "eb2cf28b90ec40919ab4d628d714767a": {
          "model_module": "@jupyter-widgets/controls",
          "model_name": "HTMLModel",
          "state": {
            "_view_name": "HTMLView",
            "style": "IPY_MODEL_56b6b0758c57499682d3317f0f223208",
            "_dom_classes": [],
            "description": "",
            "_model_name": "HTMLModel",
            "placeholder": "​",
            "_view_module": "@jupyter-widgets/controls",
            "_model_module_version": "1.5.0",
            "value": " 268M/268M [00:25&lt;00:00, 10.4MB/s]",
            "_view_count": null,
            "_view_module_version": "1.5.0",
            "description_tooltip": null,
            "_model_module": "@jupyter-widgets/controls",
            "layout": "IPY_MODEL_3db09d1d32fd4b6c9b4d878fe4ee21cb"
          }
        },
        "01f2153ab6144618b33c403080b7821d": {
          "model_module": "@jupyter-widgets/controls",
          "model_name": "ProgressStyleModel",
          "state": {
            "_view_name": "StyleView",
            "_model_name": "ProgressStyleModel",
            "description_width": "initial",
            "_view_module": "@jupyter-widgets/base",
            "_model_module_version": "1.5.0",
            "_view_count": null,
            "_view_module_version": "1.2.0",
            "bar_color": null,
            "_model_module": "@jupyter-widgets/controls"
          }
        },
        "0910b79a89c8486e92628868d7eda939": {
          "model_module": "@jupyter-widgets/base",
          "model_name": "LayoutModel",
          "state": {
            "_view_name": "LayoutView",
            "grid_template_rows": null,
            "right": null,
            "justify_content": null,
            "_view_module": "@jupyter-widgets/base",
            "overflow": null,
            "_model_module_version": "1.2.0",
            "_view_count": null,
            "flex_flow": null,
            "width": null,
            "min_width": null,
            "border": null,
            "align_items": null,
            "bottom": null,
            "_model_module": "@jupyter-widgets/base",
            "top": null,
            "grid_column": null,
            "overflow_y": null,
            "overflow_x": null,
            "grid_auto_flow": null,
            "grid_area": null,
            "grid_template_columns": null,
            "flex": null,
            "_model_name": "LayoutModel",
            "justify_items": null,
            "grid_row": null,
            "max_height": null,
            "align_content": null,
            "visibility": null,
            "align_self": null,
            "height": null,
            "min_height": null,
            "padding": null,
            "grid_auto_rows": null,
            "grid_gap": null,
            "max_width": null,
            "order": null,
            "_view_module_version": "1.2.0",
            "grid_template_areas": null,
            "object_position": null,
            "object_fit": null,
            "grid_auto_columns": null,
            "margin": null,
            "display": null,
            "left": null
          }
        },
        "56b6b0758c57499682d3317f0f223208": {
          "model_module": "@jupyter-widgets/controls",
          "model_name": "DescriptionStyleModel",
          "state": {
            "_view_name": "StyleView",
            "_model_name": "DescriptionStyleModel",
            "description_width": "",
            "_view_module": "@jupyter-widgets/base",
            "_model_module_version": "1.5.0",
            "_view_count": null,
            "_view_module_version": "1.2.0",
            "_model_module": "@jupyter-widgets/controls"
          }
        },
        "3db09d1d32fd4b6c9b4d878fe4ee21cb": {
          "model_module": "@jupyter-widgets/base",
          "model_name": "LayoutModel",
          "state": {
            "_view_name": "LayoutView",
            "grid_template_rows": null,
            "right": null,
            "justify_content": null,
            "_view_module": "@jupyter-widgets/base",
            "overflow": null,
            "_model_module_version": "1.2.0",
            "_view_count": null,
            "flex_flow": null,
            "width": null,
            "min_width": null,
            "border": null,
            "align_items": null,
            "bottom": null,
            "_model_module": "@jupyter-widgets/base",
            "top": null,
            "grid_column": null,
            "overflow_y": null,
            "overflow_x": null,
            "grid_auto_flow": null,
            "grid_area": null,
            "grid_template_columns": null,
            "flex": null,
            "_model_name": "LayoutModel",
            "justify_items": null,
            "grid_row": null,
            "max_height": null,
            "align_content": null,
            "visibility": null,
            "align_self": null,
            "height": null,
            "min_height": null,
            "padding": null,
            "grid_auto_rows": null,
            "grid_gap": null,
            "max_width": null,
            "order": null,
            "_view_module_version": "1.2.0",
            "grid_template_areas": null,
            "object_position": null,
            "object_fit": null,
            "grid_auto_columns": null,
            "margin": null,
            "display": null,
            "left": null
          }
        }
      }
    }
  },
  "cells": [
    {
      "cell_type": "markdown",
      "metadata": {
        "id": "view-in-github",
        "colab_type": "text"
      },
      "source": [
        "<a href=\"https://colab.research.google.com/github/EHDEV/xitext_model_trainer/blob/main/trainer_nb-onnx.ipynb\" target=\"_parent\"><img src=\"https://colab.research.google.com/assets/colab-badge.svg\" alt=\"Open In Colab\"/></a>"
      ]
    },
    {
      "cell_type": "markdown",
      "metadata": {
        "id": "pfpPAPkOtNAh"
      },
      "source": [
        "#### Install requirements"
      ]
    },
    {
      "cell_type": "code",
      "metadata": {
        "colab": {
          "base_uri": "https://localhost:8080/"
        },
        "id": "0WrmYQ9wMIIu",
        "outputId": "32b66b22-ff02-4c68-9889-d44afc0b29c3"
      },
      "source": [
        "!pip install transformers install onnxruntime onnxruntime-tools onnxconverter_common\n",
        " "
      ],
      "execution_count": 22,
      "outputs": [
        {
          "output_type": "stream",
          "text": [
            "Requirement already satisfied: transformers in /usr/local/lib/python3.6/dist-packages (4.2.2)\n",
            "Requirement already satisfied: install in /usr/local/lib/python3.6/dist-packages (1.3.4)\n",
            "Requirement already satisfied: onnxruntime in /usr/local/lib/python3.6/dist-packages (1.6.0)\n",
            "Requirement already satisfied: onnxruntime-tools in /usr/local/lib/python3.6/dist-packages (1.6.0)\n",
            "Collecting onnxconverter_common\n",
            "\u001b[?25l  Downloading https://files.pythonhosted.org/packages/fe/7a/7e30c643cd7d2ad87689188ef34ce93e657bd14da3605f87bcdbc19cd5b1/onnxconverter_common-1.7.0-py2.py3-none-any.whl (64kB)\n",
            "\u001b[K     |████████████████████████████████| 71kB 5.7MB/s \n",
            "\u001b[?25hRequirement already satisfied: filelock in /usr/local/lib/python3.6/dist-packages (from transformers) (3.0.12)\n",
            "Requirement already satisfied: tqdm>=4.27 in /usr/local/lib/python3.6/dist-packages (from transformers) (4.41.1)\n",
            "Requirement already satisfied: packaging in /usr/local/lib/python3.6/dist-packages (from transformers) (20.9)\n",
            "Requirement already satisfied: regex!=2019.12.17 in /usr/local/lib/python3.6/dist-packages (from transformers) (2019.12.20)\n",
            "Requirement already satisfied: dataclasses; python_version < \"3.7\" in /usr/local/lib/python3.6/dist-packages (from transformers) (0.8)\n",
            "Requirement already satisfied: sacremoses in /usr/local/lib/python3.6/dist-packages (from transformers) (0.0.43)\n",
            "Requirement already satisfied: requests in /usr/local/lib/python3.6/dist-packages (from transformers) (2.23.0)\n",
            "Requirement already satisfied: numpy in /usr/local/lib/python3.6/dist-packages (from transformers) (1.19.5)\n",
            "Requirement already satisfied: tokenizers==0.9.4 in /usr/local/lib/python3.6/dist-packages (from transformers) (0.9.4)\n",
            "Requirement already satisfied: importlib-metadata; python_version < \"3.8\" in /usr/local/lib/python3.6/dist-packages (from transformers) (3.4.0)\n",
            "Requirement already satisfied: protobuf in /usr/local/lib/python3.6/dist-packages (from onnxruntime) (3.12.4)\n",
            "Requirement already satisfied: py3nvml in /usr/local/lib/python3.6/dist-packages (from onnxruntime-tools) (0.2.6)\n",
            "Requirement already satisfied: py-cpuinfo in /usr/local/lib/python3.6/dist-packages (from onnxruntime-tools) (7.0.0)\n",
            "Requirement already satisfied: psutil in /usr/local/lib/python3.6/dist-packages (from onnxruntime-tools) (5.4.8)\n",
            "Requirement already satisfied: coloredlogs in /usr/local/lib/python3.6/dist-packages (from onnxruntime-tools) (15.0)\n",
            "Requirement already satisfied: onnx in /usr/local/lib/python3.6/dist-packages (from onnxruntime-tools) (1.8.1)\n",
            "Requirement already satisfied: pyparsing>=2.0.2 in /usr/local/lib/python3.6/dist-packages (from packaging->transformers) (2.4.7)\n",
            "Requirement already satisfied: six in /usr/local/lib/python3.6/dist-packages (from sacremoses->transformers) (1.15.0)\n",
            "Requirement already satisfied: joblib in /usr/local/lib/python3.6/dist-packages (from sacremoses->transformers) (1.0.0)\n",
            "Requirement already satisfied: click in /usr/local/lib/python3.6/dist-packages (from sacremoses->transformers) (7.1.2)\n",
            "Requirement already satisfied: urllib3!=1.25.0,!=1.25.1,<1.26,>=1.21.1 in /usr/local/lib/python3.6/dist-packages (from requests->transformers) (1.24.3)\n",
            "Requirement already satisfied: idna<3,>=2.5 in /usr/local/lib/python3.6/dist-packages (from requests->transformers) (2.10)\n",
            "Requirement already satisfied: chardet<4,>=3.0.2 in /usr/local/lib/python3.6/dist-packages (from requests->transformers) (3.0.4)\n",
            "Requirement already satisfied: certifi>=2017.4.17 in /usr/local/lib/python3.6/dist-packages (from requests->transformers) (2020.12.5)\n",
            "Requirement already satisfied: typing-extensions>=3.6.4; python_version < \"3.8\" in /usr/local/lib/python3.6/dist-packages (from importlib-metadata; python_version < \"3.8\"->transformers) (3.7.4.3)\n",
            "Requirement already satisfied: zipp>=0.5 in /usr/local/lib/python3.6/dist-packages (from importlib-metadata; python_version < \"3.8\"->transformers) (3.4.0)\n",
            "Requirement already satisfied: setuptools in /usr/local/lib/python3.6/dist-packages (from protobuf->onnxruntime) (53.0.0)\n",
            "Requirement already satisfied: xmltodict in /usr/local/lib/python3.6/dist-packages (from py3nvml->onnxruntime-tools) (0.12.0)\n",
            "Requirement already satisfied: humanfriendly>=9.1 in /usr/local/lib/python3.6/dist-packages (from coloredlogs->onnxruntime-tools) (9.1)\n",
            "Installing collected packages: onnxconverter-common\n",
            "Successfully installed onnxconverter-common-1.7.0\n"
          ],
          "name": "stdout"
        }
      ]
    },
    {
      "cell_type": "markdown",
      "metadata": {
        "id": "WxIAxvRXCGvS"
      },
      "source": [
        "#### Download repo and set working directory\n",
        "- Get the latest trainer code from github\n",
        "- set working directory then execute code"
      ]
    },
    {
      "cell_type": "code",
      "metadata": {
        "id": "3yaa5wtbtc1g"
      },
      "source": [
        "import os\n",
        "os.environ['TRAINER_HOME'] = '/content/drive/MyDrive/xitext/xitext_model_trainer'\n",
        "trainer_home = os.environ.get('TRAINER_HOME')"
      ],
      "execution_count": 3,
      "outputs": []
    },
    {
      "cell_type": "code",
      "metadata": {
        "colab": {
          "base_uri": "https://localhost:8080/"
        },
        "id": "4CtaeKjzwfF7",
        "outputId": "e8b37120-70b3-4906-ae0a-bff2ea7c1dbc"
      },
      "source": [
        "%%shell\n",
        "\n",
        "# export TRAINER_HOME=/content/drive/MyDrive/xitext/xitext_model_trainer\n",
        "cd $TRAINER_HOME; git pull\n"
      ],
      "execution_count": 4,
      "outputs": [
        {
          "output_type": "stream",
          "text": [
            "Already up to date.\n"
          ],
          "name": "stdout"
        },
        {
          "output_type": "execute_result",
          "data": {
            "text/plain": [
              ""
            ]
          },
          "metadata": {
            "tags": []
          },
          "execution_count": 4
        }
      ]
    },
    {
      "cell_type": "code",
      "metadata": {
        "id": "ObQesRqsIPoN",
        "colab": {
          "base_uri": "https://localhost:8080/"
        },
        "outputId": "bc684203-f52a-4e23-f7f6-55a8c000af57"
      },
      "source": [
        "cd $trainer_home"
      ],
      "execution_count": 6,
      "outputs": [
        {
          "output_type": "stream",
          "text": [
            "/content/drive/MyDrive/xitext/xitext_model_trainer\n"
          ],
          "name": "stdout"
        }
      ]
    },
    {
      "cell_type": "markdown",
      "metadata": {
        "id": "lfEuAiqktnVm"
      },
      "source": [
        "#### Configurations"
      ]
    },
    {
      "cell_type": "code",
      "metadata": {
        "id": "jkma7zrith-k",
        "colab": {
          "base_uri": "https://localhost:8080/"
        },
        "outputId": "4711864a-9d0b-4fb2-8090-2102e1e8e8d2"
      },
      "source": [
        "import configparser\n",
        "import os\n",
        "from pathlib import Path\n",
        "\n",
        "config = configparser.ConfigParser(interpolation=configparser.ExtendedInterpolation())\n",
        "config.read('config.ini')\n"
      ],
      "execution_count": 7,
      "outputs": [
        {
          "output_type": "execute_result",
          "data": {
            "text/plain": [
              "['config.ini']"
            ]
          },
          "metadata": {
            "tags": []
          },
          "execution_count": 7
        }
      ]
    },
    {
      "cell_type": "code",
      "metadata": {
        "id": "BoJgsc-LuKxH"
      },
      "source": [
        "default_config = dict(config['DEFAULT'])\n",
        "data_config = dict(config['DATA'])\n",
        "model_config = dict(config['MODEL'])\n",
        "onnx_config = dict(config['ONNX'])"
      ],
      "execution_count": 8,
      "outputs": []
    },
    {
      "cell_type": "code",
      "metadata": {
        "id": "Xt26DBBkhRPd",
        "outputId": "490f40a1-b626-4e09-baf4-93033b6e4d47",
        "colab": {
          "base_uri": "https://localhost:8080/"
        }
      },
      "source": [
        "data_config"
      ],
      "execution_count": 9,
      "outputs": [
        {
          "output_type": "execute_result",
          "data": {
            "text/plain": [
              "{'company': 'xitext',\n",
              " 'company_home': '/content/drive/MyDrive/xitext',\n",
              " 'data_pickle_output_path': '/content/drive/MyDrive/xitext/news-topic-classifier/data/pickles',\n",
              " 'delimiter': ',',\n",
              " 'project_home': '/content/drive/MyDrive/xitext/news-topic-classifier',\n",
              " 'project_name': 'news-topic-classifier',\n",
              " 'source_dir': '/content/drive/MyDrive/xitext/news-topic-classifier/data',\n",
              " 'target_col': 'topic',\n",
              " 'text_col': 'text'}"
            ]
          },
          "metadata": {
            "tags": []
          },
          "execution_count": 9
        }
      ]
    },
    {
      "cell_type": "markdown",
      "metadata": {
        "id": "9UdZTPR7Cdz-"
      },
      "source": [
        "#### Import classes and required functions"
      ]
    },
    {
      "cell_type": "code",
      "metadata": {
        "id": "KYVIsscPML1G",
        "outputId": "a0acb380-0f1a-4314-a254-249d5200c02d",
        "colab": {
          "base_uri": "https://localhost:8080/"
        }
      },
      "source": [
        "from file_config import FileConfig\n",
        "from models import SequenceClassifierModel\n",
        "from convert_optimize_onnx import TorchToONNX\n",
        "from data_preprocess import TextClassifierData, _encode_text_into_tokens\n",
        "from pathlib import Path\n",
        "import torch"
      ],
      "execution_count": 10,
      "outputs": [
        {
          "output_type": "stream",
          "text": [
            "DEBUG:tensorflow:Falling back to TensorFlow client; we recommended you install the Cloud TPU client directly with pip install cloud-tpu-client.\n"
          ],
          "name": "stderr"
        }
      ]
    },
    {
      "cell_type": "markdown",
      "metadata": {
        "id": "yXix1WxsCpRa"
      },
      "source": [
        "#### Set data file path and other configurations of the file"
      ]
    },
    {
      "cell_type": "code",
      "metadata": {
        "id": "PwjCp5cB0fv2",
        "colab": {
          "base_uri": "https://localhost:8080/"
        },
        "outputId": "2dcdd08c-c15b-475e-dcb9-aeaf97a2d0ac"
      },
      "source": [
        "data_config"
      ],
      "execution_count": 11,
      "outputs": [
        {
          "output_type": "execute_result",
          "data": {
            "text/plain": [
              "{'company': 'xitext',\n",
              " 'company_home': '/content/drive/MyDrive/xitext',\n",
              " 'data_pickle_output_path': '/content/drive/MyDrive/xitext/news-topic-classifier/data/pickles',\n",
              " 'delimiter': ',',\n",
              " 'project_home': '/content/drive/MyDrive/xitext/news-topic-classifier',\n",
              " 'project_name': 'news-topic-classifier',\n",
              " 'source_dir': '/content/drive/MyDrive/xitext/news-topic-classifier/data',\n",
              " 'target_col': 'topic',\n",
              " 'text_col': 'text'}"
            ]
          },
          "metadata": {
            "tags": []
          },
          "execution_count": 11
        }
      ]
    },
    {
      "cell_type": "code",
      "metadata": {
        "id": "y1wUt1Z0MqYy"
      },
      "source": [
        "fconfig = FileConfig(\n",
        "    path_to_directory=Path(data_config['source_dir']), \n",
        "    target_column=data_config['target_col'],\n",
        "    sequence_column=data_config['text_col'],\n",
        "    delimiter=data_config['delimiter'],\n",
        "    header_column=data_config.get('header'))\n"
      ],
      "execution_count": 12,
      "outputs": []
    },
    {
      "cell_type": "code",
      "metadata": {
        "colab": {
          "base_uri": "https://localhost:8080/",
          "height": 730,
          "referenced_widgets": [
            "909f55ebc6a6401093620d0c2075e54f",
            "e690e30b5d18495bab0305fc38c40e28",
            "6e844fb4285a418a90e996f236e8a121",
            "427920965f9143589b872f30ee5105dc",
            "815d0c66696642bb8fc5247b9af127c0",
            "cc9d0a7a742b4030b7094ff49e997ed7",
            "56d2b55d8a3f42f683896b6acb224aba",
            "7cdbed87d2d246bcb5acfdebcd841ef5",
            "b2b36335529d49cd864742cda2033d60",
            "e8298b0b4ce0443fa4760d3ca02fcbfb",
            "52beb33a7a8e4ca38d0563cd7122e657",
            "ab33a99924284837baafde3c9238eb9a",
            "753256df1e1840949133c8736af631c0",
            "d2e7da390e5f4ea6bf263f5151d59931",
            "b2d2dc1487d842f19a71f470f338885d",
            "bb466b4d980640959633208f07089d72"
          ]
        },
        "id": "pLtVr9nzSSBZ",
        "outputId": "ec82fa21-20a4-49f0-e094-f3ea91cb2589"
      },
      "source": [
        "text_clas_data = TextClassifierData(fconfig)\n",
        "train_data, val_data = text_clas_data.preprocess()"
      ],
      "execution_count": 13,
      "outputs": [
        {
          "output_type": "stream",
          "text": [
            "DEBUG:data-preprocessing.log:load data started\n",
            "DEBUG:data-preprocessing.log:dataframe with shape (200854, 2) has been created\n",
            "INFO:numexpr.utils:NumExpr defaulting to 2 threads.\n",
            "DEBUG:data-preprocessing.log:sentence column cleaned\n",
            "DEBUG:data-preprocessing.log:Clean_label_column complete\n",
            "DEBUG:data-preprocessing.log:Underrepresented classes have been removed and data condensed\n",
            "DEBUG:data-preprocessing.log:preparing data for training: train/val split and convert to tensor\n",
            "DEBUG:data-preprocessing.log:train test split completed\n",
            "DEBUG:data-preprocessing.log:Tokenizing train and valid data\n",
            "DEBUG:urllib3.connectionpool:Starting new HTTPS connection (1): huggingface.co:443\n",
            "DEBUG:urllib3.connectionpool:https://huggingface.co:443 \"HEAD /bert-base-uncased/resolve/main/vocab.txt HTTP/1.1\" 200 0\n",
            "DEBUG:filelock:Attempting to acquire lock 139943899388896 on /root/.cache/huggingface/transformers/45c3f7a79a80e1cf0a489e5c62b43f173c15db47864303a55d623bb3c96f72a5.d789d64ebfe299b0e416afc4a169632f903f693095b4629a7ea271d5a0cf2c99.lock\n",
            "INFO:filelock:Lock 139943899388896 acquired on /root/.cache/huggingface/transformers/45c3f7a79a80e1cf0a489e5c62b43f173c15db47864303a55d623bb3c96f72a5.d789d64ebfe299b0e416afc4a169632f903f693095b4629a7ea271d5a0cf2c99.lock\n",
            "DEBUG:urllib3.connectionpool:Starting new HTTPS connection (1): huggingface.co:443\n",
            "DEBUG:urllib3.connectionpool:https://huggingface.co:443 \"GET /bert-base-uncased/resolve/main/vocab.txt HTTP/1.1\" 200 231508\n"
          ],
          "name": "stderr"
        },
        {
          "output_type": "display_data",
          "data": {
            "application/vnd.jupyter.widget-view+json": {
              "model_id": "909f55ebc6a6401093620d0c2075e54f",
              "version_minor": 0,
              "version_major": 2
            },
            "text/plain": [
              "HBox(children=(FloatProgress(value=0.0, description='Downloading', max=231508.0, style=ProgressStyle(descripti…"
            ]
          },
          "metadata": {
            "tags": []
          }
        },
        {
          "output_type": "stream",
          "text": [
            "DEBUG:filelock:Attempting to release lock 139943899388896 on /root/.cache/huggingface/transformers/45c3f7a79a80e1cf0a489e5c62b43f173c15db47864303a55d623bb3c96f72a5.d789d64ebfe299b0e416afc4a169632f903f693095b4629a7ea271d5a0cf2c99.lock\n",
            "INFO:filelock:Lock 139943899388896 released on /root/.cache/huggingface/transformers/45c3f7a79a80e1cf0a489e5c62b43f173c15db47864303a55d623bb3c96f72a5.d789d64ebfe299b0e416afc4a169632f903f693095b4629a7ea271d5a0cf2c99.lock\n",
            "DEBUG:urllib3.connectionpool:Starting new HTTPS connection (1): huggingface.co:443\n"
          ],
          "name": "stderr"
        },
        {
          "output_type": "stream",
          "text": [
            "\n"
          ],
          "name": "stdout"
        },
        {
          "output_type": "stream",
          "text": [
            "DEBUG:urllib3.connectionpool:https://huggingface.co:443 \"HEAD /bert-base-uncased/resolve/main/tokenizer.json HTTP/1.1\" 200 0\n",
            "DEBUG:filelock:Attempting to acquire lock 139943899388896 on /root/.cache/huggingface/transformers/534479488c54aeaf9c3406f647aa2ec13648c06771ffe269edabebd4c412da1d.7f2721073f19841be16f41b0a70b600ca6b880c8f3df6f3535cbc704371bdfa4.lock\n",
            "INFO:filelock:Lock 139943899388896 acquired on /root/.cache/huggingface/transformers/534479488c54aeaf9c3406f647aa2ec13648c06771ffe269edabebd4c412da1d.7f2721073f19841be16f41b0a70b600ca6b880c8f3df6f3535cbc704371bdfa4.lock\n",
            "DEBUG:urllib3.connectionpool:Starting new HTTPS connection (1): huggingface.co:443\n",
            "DEBUG:urllib3.connectionpool:https://huggingface.co:443 \"GET /bert-base-uncased/resolve/main/tokenizer.json HTTP/1.1\" 200 466062\n"
          ],
          "name": "stderr"
        },
        {
          "output_type": "display_data",
          "data": {
            "application/vnd.jupyter.widget-view+json": {
              "model_id": "b2b36335529d49cd864742cda2033d60",
              "version_minor": 0,
              "version_major": 2
            },
            "text/plain": [
              "HBox(children=(FloatProgress(value=0.0, description='Downloading', max=466062.0, style=ProgressStyle(descripti…"
            ]
          },
          "metadata": {
            "tags": []
          }
        },
        {
          "output_type": "stream",
          "text": [
            "DEBUG:filelock:Attempting to release lock 139943899388896 on /root/.cache/huggingface/transformers/534479488c54aeaf9c3406f647aa2ec13648c06771ffe269edabebd4c412da1d.7f2721073f19841be16f41b0a70b600ca6b880c8f3df6f3535cbc704371bdfa4.lock\n",
            "INFO:filelock:Lock 139943899388896 released on /root/.cache/huggingface/transformers/534479488c54aeaf9c3406f647aa2ec13648c06771ffe269edabebd4c412da1d.7f2721073f19841be16f41b0a70b600ca6b880c8f3df6f3535cbc704371bdfa4.lock\n"
          ],
          "name": "stderr"
        },
        {
          "output_type": "stream",
          "text": [
            "\n"
          ],
          "name": "stdout"
        },
        {
          "output_type": "stream",
          "text": [
            "DEBUG:data-preprocessing.log:Encoding input sentences completed\n",
            "DEBUG:urllib3.connectionpool:Starting new HTTPS connection (1): huggingface.co:443\n",
            "DEBUG:urllib3.connectionpool:https://huggingface.co:443 \"HEAD /bert-base-uncased/resolve/main/vocab.txt HTTP/1.1\" 200 0\n",
            "DEBUG:urllib3.connectionpool:Starting new HTTPS connection (1): huggingface.co:443\n",
            "DEBUG:urllib3.connectionpool:https://huggingface.co:443 \"HEAD /bert-base-uncased/resolve/main/tokenizer.json HTTP/1.1\" 200 0\n",
            "DEBUG:data-preprocessing.log:Encoding input sentences completed\n",
            "DEBUG:data-preprocessing.log:Wrapping tensors in dataloader completed\n",
            "DEBUG:data-preprocessing.log:Wrapping tensors in dataloader completed\n",
            "DEBUG:data-preprocessing.log:data preparation for training is complete. 2385 train and 597 validation examples\n",
            "DEBUG:data-preprocessing.log:Data preprocessing complete\n"
          ],
          "name": "stderr"
        }
      ]
    },
    {
      "cell_type": "markdown",
      "metadata": {
        "id": "3sqrAW7wHdNB"
      },
      "source": [
        "#### Write classes and their indices as a json in model directory"
      ]
    },
    {
      "cell_type": "code",
      "metadata": {
        "id": "tTh9J-nISgI4"
      },
      "source": [
        "import json\n",
        "\n",
        "model_output_dir = model_config['model_output_dir']\n",
        "\n",
        "if not os.path.exists(model_output_dir):\n",
        "    os.makedirs(model_output_dir)\n",
        "\n",
        "with open(model_config['classes_file_path'], 'w') as cfile:\n",
        "    cfile.write(json.dumps(\n",
        "        { k: v for k,v in enumerate(text_clas_data.classes) }\n",
        "    ))"
      ],
      "execution_count": 14,
      "outputs": []
    },
    {
      "cell_type": "code",
      "metadata": {
        "id": "VGpEuZqh8vQL"
      },
      "source": [
        "pickle_path = Path(data_config['data_pickle_output_path'])\n",
        "if not os.path.isdir(pickle_path):\n",
        "  os.makedirs(pickle_path)\n",
        "\n",
        "torch.save(train_data, pickle_path/'train_pickle.pth')\n",
        "torch.save(val_data, pickle_path/'val_pickle.pth')"
      ],
      "execution_count": 15,
      "outputs": []
    },
    {
      "cell_type": "code",
      "metadata": {
        "id": "caH8veZo87E0"
      },
      "source": [
        "train_data = torch.load(pickle_path/'train_pickle.pth')\n",
        "val_data = torch.load(pickle_path/'val_pickle.pth')"
      ],
      "execution_count": 16,
      "outputs": []
    },
    {
      "cell_type": "markdown",
      "metadata": {
        "id": "J5rtCNmxs_E9"
      },
      "source": [
        "#### Train"
      ]
    },
    {
      "cell_type": "code",
      "metadata": {
        "id": "TD3uZ1QK9rx5",
        "colab": {
          "base_uri": "https://localhost:8080/"
        },
        "outputId": "2e651100-d26b-4573-eb5d-421b584abf28"
      },
      "source": [
        "model_config"
      ],
      "execution_count": 17,
      "outputs": [
        {
          "output_type": "execute_result",
          "data": {
            "text/plain": [
              "{'classes_file_path': '/content/drive/MyDrive/xitext/news-topic-classifier/models/classes.json',\n",
              " 'company': 'xitext',\n",
              " 'company_home': '/content/drive/MyDrive/xitext',\n",
              " 'epochs': '1',\n",
              " 'eval_metric': 'accuracy',\n",
              " 'model_filename': 'distilbert-topic-seq-classifier.bin',\n",
              " 'model_group': 'distilbert',\n",
              " 'model_output_dir': '/content/drive/MyDrive/xitext/news-topic-classifier/models',\n",
              " 'optimizer': 'adam',\n",
              " 'project_home': '/content/drive/MyDrive/xitext/news-topic-classifier',\n",
              " 'project_name': 'news-topic-classifier',\n",
              " 'scheduler': 'linear',\n",
              " 'transformers_model_id': 'distilbert-base-uncased'}"
            ]
          },
          "metadata": {
            "tags": []
          },
          "execution_count": 17
        }
      ]
    },
    {
      "cell_type": "code",
      "metadata": {
        "id": "2iUtImdpXzY_",
        "colab": {
          "base_uri": "https://localhost:8080/",
          "height": 1000,
          "referenced_widgets": [
            "7ec8cfbc57b940bb8dac620ed0502928",
            "fa02665416aa4012a02921bb8de96fbc",
            "9a5ecd59aa614146a33ee5fba72744e8",
            "69bd2bd00eb34149a79a20fa51681bbd",
            "d40a231b5f6e40a2b9c9e3f834414795",
            "51a0335e119340b4873caaf0593ce431",
            "20aed41b5e11496a8c3f209492ecd30b",
            "2a890a460b9f4ad4a53db974e2ad08aa",
            "ab67ab62613d4133b401eec5aa73eabb",
            "48149fa688484bd8a52c60941b18b8e8",
            "c812ea78ea94448fa49caa8c1985c2f0",
            "eb2cf28b90ec40919ab4d628d714767a",
            "01f2153ab6144618b33c403080b7821d",
            "0910b79a89c8486e92628868d7eda939",
            "56b6b0758c57499682d3317f0f223208",
            "3db09d1d32fd4b6c9b4d878fe4ee21cb"
          ]
        },
        "outputId": "bfa39278-295c-428e-a3f5-4b9b6fc64b21"
      },
      "source": [
        "seq_model = SequenceClassifierModel(\n",
        "    project_home=model_config['project_home'],\n",
        "    tr_model_id=model_config['transformers_model_id'],\n",
        "    model_group=model_config['model_group'],\n",
        "    optimizer=model_config['optimizer'],\n",
        "    scheduler=model_config['scheduler'],\n",
        "    eval_metric=model_config['eval_metric'],\n",
        "    num_labels=text_clas_data.num_labels,\n",
        "    epochs=int(model_config['epochs']),\n",
        "    train_data=train_data,\n",
        "    val_data=val_data,\n",
        "    model_output_dir=model_config['model_output_dir'],\n",
        "    model_output_filename=model_config['model_filename']\n",
        ");\n",
        "\n",
        "seq_model.train(save_model=True)"
      ],
      "execution_count": 18,
      "outputs": [
        {
          "output_type": "stream",
          "text": [
            "DEBUG:urllib3.connectionpool:Starting new HTTPS connection (1): huggingface.co:443\n",
            "DEBUG:urllib3.connectionpool:https://huggingface.co:443 \"HEAD /distilbert-base-uncased/resolve/main/config.json HTTP/1.1\" 200 0\n",
            "DEBUG:filelock:Attempting to acquire lock 139940955570528 on /root/.cache/huggingface/transformers/23454919702d26495337f3da04d1655c7ee010d5ec9d77bdb9e399e00302c0a1.d423bdf2f58dc8b77d5f5d18028d7ae4a72dcfd8f468e81fe979ada957a8c361.lock\n",
            "INFO:filelock:Lock 139940955570528 acquired on /root/.cache/huggingface/transformers/23454919702d26495337f3da04d1655c7ee010d5ec9d77bdb9e399e00302c0a1.d423bdf2f58dc8b77d5f5d18028d7ae4a72dcfd8f468e81fe979ada957a8c361.lock\n",
            "DEBUG:urllib3.connectionpool:Starting new HTTPS connection (1): huggingface.co:443\n",
            "DEBUG:urllib3.connectionpool:https://huggingface.co:443 \"GET /distilbert-base-uncased/resolve/main/config.json HTTP/1.1\" 200 442\n"
          ],
          "name": "stderr"
        },
        {
          "output_type": "display_data",
          "data": {
            "application/vnd.jupyter.widget-view+json": {
              "model_id": "7ec8cfbc57b940bb8dac620ed0502928",
              "version_minor": 0,
              "version_major": 2
            },
            "text/plain": [
              "HBox(children=(FloatProgress(value=0.0, description='Downloading', max=442.0, style=ProgressStyle(description_…"
            ]
          },
          "metadata": {
            "tags": []
          }
        },
        {
          "output_type": "stream",
          "text": [
            "DEBUG:filelock:Attempting to release lock 139940955570528 on /root/.cache/huggingface/transformers/23454919702d26495337f3da04d1655c7ee010d5ec9d77bdb9e399e00302c0a1.d423bdf2f58dc8b77d5f5d18028d7ae4a72dcfd8f468e81fe979ada957a8c361.lock\n",
            "INFO:filelock:Lock 139940955570528 released on /root/.cache/huggingface/transformers/23454919702d26495337f3da04d1655c7ee010d5ec9d77bdb9e399e00302c0a1.d423bdf2f58dc8b77d5f5d18028d7ae4a72dcfd8f468e81fe979ada957a8c361.lock\n",
            "DEBUG:urllib3.connectionpool:Starting new HTTPS connection (1): huggingface.co:443\n"
          ],
          "name": "stderr"
        },
        {
          "output_type": "stream",
          "text": [
            "\n"
          ],
          "name": "stdout"
        },
        {
          "output_type": "stream",
          "text": [
            "DEBUG:urllib3.connectionpool:https://huggingface.co:443 \"HEAD /distilbert-base-uncased/resolve/main/pytorch_model.bin HTTP/1.1\" 302 0\n",
            "DEBUG:filelock:Attempting to acquire lock 139941073892576 on /root/.cache/huggingface/transformers/9c169103d7e5a73936dd2b627e42851bec0831212b677c637033ee4bce9ab5ee.126183e36667471617ae2f0835fab707baa54b731f991507ebbb55ea85adb12a.lock\n",
            "INFO:filelock:Lock 139941073892576 acquired on /root/.cache/huggingface/transformers/9c169103d7e5a73936dd2b627e42851bec0831212b677c637033ee4bce9ab5ee.126183e36667471617ae2f0835fab707baa54b731f991507ebbb55ea85adb12a.lock\n",
            "DEBUG:urllib3.connectionpool:Starting new HTTPS connection (1): cdn-lfs.huggingface.co:443\n",
            "DEBUG:urllib3.connectionpool:https://cdn-lfs.huggingface.co:443 \"GET /distilbert-base-uncased/e60d71610916da4787c5513c81bc026d415708528295502fb3e1a6fe1485ea7c HTTP/1.1\" 200 267967963\n"
          ],
          "name": "stderr"
        },
        {
          "output_type": "display_data",
          "data": {
            "application/vnd.jupyter.widget-view+json": {
              "model_id": "ab67ab62613d4133b401eec5aa73eabb",
              "version_minor": 0,
              "version_major": 2
            },
            "text/plain": [
              "HBox(children=(FloatProgress(value=0.0, description='Downloading', max=267967963.0, style=ProgressStyle(descri…"
            ]
          },
          "metadata": {
            "tags": []
          }
        },
        {
          "output_type": "stream",
          "text": [
            "DEBUG:filelock:Attempting to release lock 139941073892576 on /root/.cache/huggingface/transformers/9c169103d7e5a73936dd2b627e42851bec0831212b677c637033ee4bce9ab5ee.126183e36667471617ae2f0835fab707baa54b731f991507ebbb55ea85adb12a.lock\n",
            "INFO:filelock:Lock 139941073892576 released on /root/.cache/huggingface/transformers/9c169103d7e5a73936dd2b627e42851bec0831212b677c637033ee4bce9ab5ee.126183e36667471617ae2f0835fab707baa54b731f991507ebbb55ea85adb12a.lock\n"
          ],
          "name": "stderr"
        },
        {
          "output_type": "stream",
          "text": [
            "\n"
          ],
          "name": "stdout"
        },
        {
          "output_type": "stream",
          "text": [
            "Some weights of the model checkpoint at distilbert-base-uncased were not used when initializing DistilBertForSequenceClassification: ['vocab_transform.weight', 'vocab_transform.bias', 'vocab_layer_norm.weight', 'vocab_layer_norm.bias', 'vocab_projector.weight', 'vocab_projector.bias']\n",
            "- This IS expected if you are initializing DistilBertForSequenceClassification from the checkpoint of a model trained on another task or with another architecture (e.g. initializing a BertForSequenceClassification model from a BertForPreTraining model).\n",
            "- This IS NOT expected if you are initializing DistilBertForSequenceClassification from the checkpoint of a model that you expect to be exactly identical (initializing a BertForSequenceClassification model from a BertForSequenceClassification model).\n",
            "Some weights of DistilBertForSequenceClassification were not initialized from the model checkpoint at distilbert-base-uncased and are newly initialized: ['pre_classifier.weight', 'pre_classifier.bias', 'classifier.weight', 'classifier.bias']\n",
            "You should probably TRAIN this model on a down-stream task to be able to use it for predictions and inference.\n",
            "DEBUG:model-training.log:model training on cuda\n",
            "DEBUG:model-training.log:DistilBertForSequenceClassification(\n",
            "  (distilbert): DistilBertModel(\n",
            "    (embeddings): Embeddings(\n",
            "      (word_embeddings): Embedding(30522, 768, padding_idx=0)\n",
            "      (position_embeddings): Embedding(512, 768)\n",
            "      (LayerNorm): LayerNorm((768,), eps=1e-12, elementwise_affine=True)\n",
            "      (dropout): Dropout(p=0.1, inplace=False)\n",
            "    )\n",
            "    (transformer): Transformer(\n",
            "      (layer): ModuleList(\n",
            "        (0): TransformerBlock(\n",
            "          (attention): MultiHeadSelfAttention(\n",
            "            (dropout): Dropout(p=0.1, inplace=False)\n",
            "            (q_lin): Linear(in_features=768, out_features=768, bias=True)\n",
            "            (k_lin): Linear(in_features=768, out_features=768, bias=True)\n",
            "            (v_lin): Linear(in_features=768, out_features=768, bias=True)\n",
            "            (out_lin): Linear(in_features=768, out_features=768, bias=True)\n",
            "          )\n",
            "          (sa_layer_norm): LayerNorm((768,), eps=1e-12, elementwise_affine=True)\n",
            "          (ffn): FFN(\n",
            "            (dropout): Dropout(p=0.1, inplace=False)\n",
            "            (lin1): Linear(in_features=768, out_features=3072, bias=True)\n",
            "            (lin2): Linear(in_features=3072, out_features=768, bias=True)\n",
            "          )\n",
            "          (output_layer_norm): LayerNorm((768,), eps=1e-12, elementwise_affine=True)\n",
            "        )\n",
            "        (1): TransformerBlock(\n",
            "          (attention): MultiHeadSelfAttention(\n",
            "            (dropout): Dropout(p=0.1, inplace=False)\n",
            "            (q_lin): Linear(in_features=768, out_features=768, bias=True)\n",
            "            (k_lin): Linear(in_features=768, out_features=768, bias=True)\n",
            "            (v_lin): Linear(in_features=768, out_features=768, bias=True)\n",
            "            (out_lin): Linear(in_features=768, out_features=768, bias=True)\n",
            "          )\n",
            "          (sa_layer_norm): LayerNorm((768,), eps=1e-12, elementwise_affine=True)\n",
            "          (ffn): FFN(\n",
            "            (dropout): Dropout(p=0.1, inplace=False)\n",
            "            (lin1): Linear(in_features=768, out_features=3072, bias=True)\n",
            "            (lin2): Linear(in_features=3072, out_features=768, bias=True)\n",
            "          )\n",
            "          (output_layer_norm): LayerNorm((768,), eps=1e-12, elementwise_affine=True)\n",
            "        )\n",
            "        (2): TransformerBlock(\n",
            "          (attention): MultiHeadSelfAttention(\n",
            "            (dropout): Dropout(p=0.1, inplace=False)\n",
            "            (q_lin): Linear(in_features=768, out_features=768, bias=True)\n",
            "            (k_lin): Linear(in_features=768, out_features=768, bias=True)\n",
            "            (v_lin): Linear(in_features=768, out_features=768, bias=True)\n",
            "            (out_lin): Linear(in_features=768, out_features=768, bias=True)\n",
            "          )\n",
            "          (sa_layer_norm): LayerNorm((768,), eps=1e-12, elementwise_affine=True)\n",
            "          (ffn): FFN(\n",
            "            (dropout): Dropout(p=0.1, inplace=False)\n",
            "            (lin1): Linear(in_features=768, out_features=3072, bias=True)\n",
            "            (lin2): Linear(in_features=3072, out_features=768, bias=True)\n",
            "          )\n",
            "          (output_layer_norm): LayerNorm((768,), eps=1e-12, elementwise_affine=True)\n",
            "        )\n",
            "        (3): TransformerBlock(\n",
            "          (attention): MultiHeadSelfAttention(\n",
            "            (dropout): Dropout(p=0.1, inplace=False)\n",
            "            (q_lin): Linear(in_features=768, out_features=768, bias=True)\n",
            "            (k_lin): Linear(in_features=768, out_features=768, bias=True)\n",
            "            (v_lin): Linear(in_features=768, out_features=768, bias=True)\n",
            "            (out_lin): Linear(in_features=768, out_features=768, bias=True)\n",
            "          )\n",
            "          (sa_layer_norm): LayerNorm((768,), eps=1e-12, elementwise_affine=True)\n",
            "          (ffn): FFN(\n",
            "            (dropout): Dropout(p=0.1, inplace=False)\n",
            "            (lin1): Linear(in_features=768, out_features=3072, bias=True)\n",
            "            (lin2): Linear(in_features=3072, out_features=768, bias=True)\n",
            "          )\n",
            "          (output_layer_norm): LayerNorm((768,), eps=1e-12, elementwise_affine=True)\n",
            "        )\n",
            "        (4): TransformerBlock(\n",
            "          (attention): MultiHeadSelfAttention(\n",
            "            (dropout): Dropout(p=0.1, inplace=False)\n",
            "            (q_lin): Linear(in_features=768, out_features=768, bias=True)\n",
            "            (k_lin): Linear(in_features=768, out_features=768, bias=True)\n",
            "            (v_lin): Linear(in_features=768, out_features=768, bias=True)\n",
            "            (out_lin): Linear(in_features=768, out_features=768, bias=True)\n",
            "          )\n",
            "          (sa_layer_norm): LayerNorm((768,), eps=1e-12, elementwise_affine=True)\n",
            "          (ffn): FFN(\n",
            "            (dropout): Dropout(p=0.1, inplace=False)\n",
            "            (lin1): Linear(in_features=768, out_features=3072, bias=True)\n",
            "            (lin2): Linear(in_features=3072, out_features=768, bias=True)\n",
            "          )\n",
            "          (output_layer_norm): LayerNorm((768,), eps=1e-12, elementwise_affine=True)\n",
            "        )\n",
            "        (5): TransformerBlock(\n",
            "          (attention): MultiHeadSelfAttention(\n",
            "            (dropout): Dropout(p=0.1, inplace=False)\n",
            "            (q_lin): Linear(in_features=768, out_features=768, bias=True)\n",
            "            (k_lin): Linear(in_features=768, out_features=768, bias=True)\n",
            "            (v_lin): Linear(in_features=768, out_features=768, bias=True)\n",
            "            (out_lin): Linear(in_features=768, out_features=768, bias=True)\n",
            "          )\n",
            "          (sa_layer_norm): LayerNorm((768,), eps=1e-12, elementwise_affine=True)\n",
            "          (ffn): FFN(\n",
            "            (dropout): Dropout(p=0.1, inplace=False)\n",
            "            (lin1): Linear(in_features=768, out_features=3072, bias=True)\n",
            "            (lin2): Linear(in_features=3072, out_features=768, bias=True)\n",
            "          )\n",
            "          (output_layer_norm): LayerNorm((768,), eps=1e-12, elementwise_affine=True)\n",
            "        )\n",
            "      )\n",
            "    )\n",
            "  )\n",
            "  (pre_classifier): Linear(in_features=768, out_features=768, bias=True)\n",
            "  (classifier): Linear(in_features=768, out_features=41, bias=True)\n",
            "  (dropout): Dropout(p=0.2, inplace=False)\n",
            ") model created\n"
          ],
          "name": "stderr"
        },
        {
          "output_type": "stream",
          "text": [
            "=============== Epoch 1 / 1 ======\n",
            "Training...\n",
            "Batch    40 of 2,385. Elapsed: 0:00:12.\n",
            "Batch    80 of 2,385. Elapsed: 0:00:24.\n",
            "Batch   120 of 2,385. Elapsed: 0:00:37.\n",
            "Batch   160 of 2,385. Elapsed: 0:00:49.\n",
            "Batch   200 of 2,385. Elapsed: 0:01:02.\n",
            "Batch   240 of 2,385. Elapsed: 0:01:15.\n",
            "Batch   280 of 2,385. Elapsed: 0:01:28.\n",
            "Batch   320 of 2,385. Elapsed: 0:01:42.\n",
            "Batch   360 of 2,385. Elapsed: 0:01:55.\n",
            "Batch   400 of 2,385. Elapsed: 0:02:08.\n",
            "Batch   440 of 2,385. Elapsed: 0:02:22.\n",
            "Batch   480 of 2,385. Elapsed: 0:02:35.\n",
            "Batch   520 of 2,385. Elapsed: 0:02:48.\n",
            "Batch   560 of 2,385. Elapsed: 0:03:01.\n",
            "Batch   600 of 2,385. Elapsed: 0:03:15.\n",
            "Batch   640 of 2,385. Elapsed: 0:03:28.\n",
            "Batch   680 of 2,385. Elapsed: 0:03:41.\n",
            "Batch   720 of 2,385. Elapsed: 0:03:55.\n",
            "Batch   760 of 2,385. Elapsed: 0:04:08.\n",
            "Batch   800 of 2,385. Elapsed: 0:04:21.\n",
            "Batch   840 of 2,385. Elapsed: 0:04:35.\n",
            "Batch   880 of 2,385. Elapsed: 0:04:48.\n",
            "Batch   920 of 2,385. Elapsed: 0:05:01.\n",
            "Batch   960 of 2,385. Elapsed: 0:05:14.\n",
            "Batch 1,000 of 2,385. Elapsed: 0:05:28.\n",
            "Batch 1,040 of 2,385. Elapsed: 0:05:41.\n",
            "Batch 1,080 of 2,385. Elapsed: 0:05:54.\n",
            "Batch 1,120 of 2,385. Elapsed: 0:06:08.\n",
            "Batch 1,160 of 2,385. Elapsed: 0:06:21.\n",
            "Batch 1,200 of 2,385. Elapsed: 0:06:34.\n",
            "Batch 1,240 of 2,385. Elapsed: 0:06:48.\n",
            "Batch 1,280 of 2,385. Elapsed: 0:07:01.\n",
            "Batch 1,320 of 2,385. Elapsed: 0:07:14.\n",
            "Batch 1,360 of 2,385. Elapsed: 0:07:27.\n",
            "Batch 1,400 of 2,385. Elapsed: 0:07:41.\n",
            "Batch 1,440 of 2,385. Elapsed: 0:07:54.\n",
            "Batch 1,480 of 2,385. Elapsed: 0:08:07.\n",
            "Batch 1,520 of 2,385. Elapsed: 0:08:21.\n",
            "Batch 1,560 of 2,385. Elapsed: 0:08:34.\n",
            "Batch 1,600 of 2,385. Elapsed: 0:08:47.\n",
            "Batch 1,640 of 2,385. Elapsed: 0:09:01.\n",
            "Batch 1,680 of 2,385. Elapsed: 0:09:14.\n",
            "Batch 1,720 of 2,385. Elapsed: 0:09:27.\n",
            "Batch 1,760 of 2,385. Elapsed: 0:09:40.\n",
            "Batch 1,800 of 2,385. Elapsed: 0:09:54.\n",
            "Batch 1,840 of 2,385. Elapsed: 0:10:07.\n",
            "Batch 1,880 of 2,385. Elapsed: 0:10:20.\n",
            "Batch 1,920 of 2,385. Elapsed: 0:10:34.\n",
            "Batch 1,960 of 2,385. Elapsed: 0:10:47.\n",
            "Batch 2,000 of 2,385. Elapsed: 0:11:00.\n",
            "Batch 2,040 of 2,385. Elapsed: 0:11:14.\n",
            "Batch 2,080 of 2,385. Elapsed: 0:11:27.\n",
            "Batch 2,120 of 2,385. Elapsed: 0:11:40.\n",
            "Batch 2,160 of 2,385. Elapsed: 0:11:53.\n",
            "Batch 2,200 of 2,385. Elapsed: 0:12:07.\n",
            "Batch 2,240 of 2,385. Elapsed: 0:12:20.\n",
            "Batch 2,280 of 2,385. Elapsed: 0:12:33.\n",
            "Batch 2,320 of 2,385. Elapsed: 0:12:47.\n",
            "Batch 2,360 of 2,385. Elapsed: 0:13:00.\n"
          ],
          "name": "stdout"
        },
        {
          "output_type": "stream",
          "text": [
            "DEBUG:model-training.log:Running Validation...\n"
          ],
          "name": "stderr"
        },
        {
          "output_type": "stream",
          "text": [
            " Train Accuracy: 0.54\n",
            "Average training loss: 1.7473923479735975\n",
            "Training epoch took: 0:13:08\n",
            "\n"
          ],
          "name": "stdout"
        },
        {
          "output_type": "stream",
          "text": [
            "DEBUG:model-training.log:Training Complete\n",
            "DEBUG:model-training.log:/content/drive/MyDrive/xitext/news-topic-classifier/models\n"
          ],
          "name": "stderr"
        },
        {
          "output_type": "stream",
          "text": [
            " Accuracy: 0.6023328600929273\n",
            " Validation took: 0:01:06\n",
            "\n"
          ],
          "name": "stdout"
        },
        {
          "output_type": "stream",
          "text": [
            "DEBUG:model-training.log:model saved to /content/drive/MyDrive/xitext/news-topic-classifier/models/distilbert-topic-seq-classifier.bin\n"
          ],
          "name": "stderr"
        }
      ]
    },
    {
      "cell_type": "markdown",
      "metadata": {
        "id": "RcOzHHBgtEqN"
      },
      "source": [
        "#### ONNX"
      ]
    },
    {
      "cell_type": "code",
      "metadata": {
        "id": "WvosbhpWNyBs",
        "colab": {
          "base_uri": "https://localhost:8080/"
        },
        "outputId": "a7496eb1-3b47-48ff-db23-0e6a2970d755"
      },
      "source": [
        "onnx_config"
      ],
      "execution_count": 19,
      "outputs": [
        {
          "output_type": "execute_result",
          "data": {
            "text/plain": [
              "{'company': 'xitext',\n",
              " 'company_home': '/content/drive/MyDrive/xitext',\n",
              " 'model_type': 'bert',\n",
              " 'onnx_model_output_dir': '/content/drive/MyDrive/xitext/news-topic-classifier/models/onnx',\n",
              " 'project_home': '/content/drive/MyDrive/xitext/news-topic-classifier',\n",
              " 'project_name': 'news-topic-classifier',\n",
              " 'runtimeprovider': 'CPUExecutionProvider',\n",
              " 'torch_model_path': '/content/drive/MyDrive/xitext/news-topic-classifier/models/distilbert-topic-seq-classifier.bin'}"
            ]
          },
          "metadata": {
            "tags": []
          },
          "execution_count": 19
        }
      ]
    },
    {
      "cell_type": "code",
      "metadata": {
        "id": "Bp7HSF0gX-83",
        "colab": {
          "base_uri": "https://localhost:8080/"
        },
        "outputId": "a3eb76bf-493c-4cbd-ed9c-25df95219db6"
      },
      "source": [
        "from pathlib import Path\n",
        "\n",
        "torch_model_path = onnx_config['torch_model_path']\n",
        "onnx_model_dir = Path('/content/drive/MyDrive/xitext/xitext_model_trainer/models/news-topic-classifier/onnx/')\n",
        "\n",
        "tt2 = TorchToONNX(\n",
        "    torch_model_path=Path(onnx_config['torch_model_path']),\n",
        "    onnx_model_dir=Path(onnx_config['onnx_model_output_dir']),\n",
        "    tokenizer=text_clas_data.tokenizer\n",
        ")\n",
        "tt2.model_type='bert'"
      ],
      "execution_count": 20,
      "outputs": [
        {
          "output_type": "stream",
          "text": [
            "DEBUG:urllib3.connectionpool:Starting new HTTPS connection (1): huggingface.co:443\n",
            "DEBUG:urllib3.connectionpool:https://huggingface.co:443 \"HEAD /bert-base-uncased/resolve/main/vocab.txt HTTP/1.1\" 200 0\n",
            "DEBUG:urllib3.connectionpool:Starting new HTTPS connection (1): huggingface.co:443\n",
            "DEBUG:urllib3.connectionpool:https://huggingface.co:443 \"HEAD /bert-base-uncased/resolve/main/tokenizer.json HTTP/1.1\" 200 0\n"
          ],
          "name": "stderr"
        }
      ]
    },
    {
      "cell_type": "code",
      "metadata": {
        "id": "TPY0WufZCg7a"
      },
      "source": [
        "tt2.convert_torch_to_onnx()\n",
        "# tt2.model_type"
      ],
      "execution_count": null,
      "outputs": []
    },
    {
      "cell_type": "code",
      "metadata": {
        "id": "zyHMSPwwioqy"
      },
      "source": [
        "from scipy.special import softmax\n",
        "def make_predictions(model, encoded_sentence, attention_mask, token_type_id=None):\n",
        "    \n",
        "    model.eval()\n",
        "    with torch.no_grad():\n",
        "        \n",
        "        preds = model(\n",
        "                    encoded_sentence,\n",
        "                    attention_mask=attention_mask\n",
        "                ) \n",
        "            # labels are not passed here in validation\n",
        "            # Get the \"logits\" output by the model. The \"logits\" are the output\n",
        "            # values prior to applying an activation function like softmax\n",
        "        \n",
        "        logits = preds[0]\n",
        "        probabilities = torch.nn.functional.softmax(logits, dim=1)        \n",
        "        probabilities = probabilities.detach().cpu().numpy()\n",
        "        # Move logits and labels to CPU\n",
        "\n",
        "        np.set_printoptions(suppress=True)\n",
        "\n",
        "    return probabilities[-1].round(4)\n"
      ],
      "execution_count": null,
      "outputs": []
    },
    {
      "cell_type": "code",
      "metadata": {
        "id": "muorruW8jJRO"
      },
      "source": [
        "import numpy as np\n",
        "sentence = [\n",
        "\t'''\n",
        "  \n",
        "  I need to eat there again. tastey meal\n",
        "\n",
        "  ''']\n",
        "\n",
        "encoded_tensor = _encode_text_into_tokens( sentence, text_clas_data.tokenizer)\n",
        "\n",
        "# print(encoded_tensor.shape, attention_mask_tensor.shape)\n",
        "\n",
        "seq_model.model.eval()\n",
        "seq_model.model.to('cpu')\n",
        "prediction_probabilities = make_predictions(\n",
        "    model=seq_model.model,\n",
        "    encoded_sentence=encoded_tensor['input_ids'], \n",
        "    attention_mask=encoded_tensor['attention_mask']\n",
        ")\n",
        "\n",
        "from collections import OrderedDict\n",
        "top_topics = OrderedDict()\n",
        "classes=text_clas_data.classes\n",
        "for i in prediction_probabilities.argsort()[-10:][::-1]:\n",
        "    top_topics[classes[i]] = prediction_probabilities[i]\n",
        "\n",
        "top_topics"
      ],
      "execution_count": null,
      "outputs": []
    },
    {
      "cell_type": "code",
      "metadata": {
        "id": "28ZbLubDKLZt"
      },
      "source": [
        "onnx_res = tt2.run_inference(sentence, text_clas_data.tokenizer)\n",
        "\n",
        "from collections import OrderedDict\n",
        "probs = {}\n",
        "for i, x in enumerate(onnx_res[0]):\n",
        "  probs[text_clas_data.classes[i]] = round(x, 4) \n",
        "  \n",
        "sorted(probs.items(), key=lambda x: x[1], reverse=True)[:10]"
      ],
      "execution_count": null,
      "outputs": []
    },
    {
      "cell_type": "markdown",
      "metadata": {
        "id": "8h5JAQCJTkTx"
      },
      "source": [
        "#### End"
      ]
    },
    {
      "cell_type": "code",
      "metadata": {
        "id": "2TKHk8rDTf-c"
      },
      "source": [
        "text_clas_data.data_df.shape"
      ],
      "execution_count": null,
      "outputs": []
    },
    {
      "cell_type": "code",
      "metadata": {
        "id": "2UVMF13qThaQ"
      },
      "source": [
        ""
      ],
      "execution_count": null,
      "outputs": []
    }
  ]
}
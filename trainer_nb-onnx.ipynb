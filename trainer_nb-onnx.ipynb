{
  "nbformat": 4,
  "nbformat_minor": 0,
  "metadata": {
    "colab": {
      "name": "trainer-nb.ipynb",
      "provenance": [],
      "collapsed_sections": [],
      "mount_file_id": "1qpOP-SXZPumRc324Yf50x_Uj1kZ5ps__",
      "authorship_tag": "ABX9TyOscb7ZdPeZeU8DT29U/Lpn",
      "include_colab_link": true
    },
    "kernelspec": {
      "name": "python3",
      "display_name": "Python 3"
    },
    "widgets": {
      "application/vnd.jupyter.widget-state+json": {
        "7550dd7e85694e4db57be83ad8c4d724": {
          "model_module": "@jupyter-widgets/controls",
          "model_name": "HBoxModel",
          "state": {
            "_view_name": "HBoxView",
            "_dom_classes": [],
            "_model_name": "HBoxModel",
            "_view_module": "@jupyter-widgets/controls",
            "_model_module_version": "1.5.0",
            "_view_count": null,
            "_view_module_version": "1.5.0",
            "box_style": "",
            "layout": "IPY_MODEL_ab79440d14014c3491110300f4a0ff8b",
            "_model_module": "@jupyter-widgets/controls",
            "children": [
              "IPY_MODEL_242497eb20324bba96292b11e172b22a",
              "IPY_MODEL_e98a9f343ca843b1baa6ff27bf10ff95"
            ]
          }
        },
        "ab79440d14014c3491110300f4a0ff8b": {
          "model_module": "@jupyter-widgets/base",
          "model_name": "LayoutModel",
          "state": {
            "_view_name": "LayoutView",
            "grid_template_rows": null,
            "right": null,
            "justify_content": null,
            "_view_module": "@jupyter-widgets/base",
            "overflow": null,
            "_model_module_version": "1.2.0",
            "_view_count": null,
            "flex_flow": null,
            "width": null,
            "min_width": null,
            "border": null,
            "align_items": null,
            "bottom": null,
            "_model_module": "@jupyter-widgets/base",
            "top": null,
            "grid_column": null,
            "overflow_y": null,
            "overflow_x": null,
            "grid_auto_flow": null,
            "grid_area": null,
            "grid_template_columns": null,
            "flex": null,
            "_model_name": "LayoutModel",
            "justify_items": null,
            "grid_row": null,
            "max_height": null,
            "align_content": null,
            "visibility": null,
            "align_self": null,
            "height": null,
            "min_height": null,
            "padding": null,
            "grid_auto_rows": null,
            "grid_gap": null,
            "max_width": null,
            "order": null,
            "_view_module_version": "1.2.0",
            "grid_template_areas": null,
            "object_position": null,
            "object_fit": null,
            "grid_auto_columns": null,
            "margin": null,
            "display": null,
            "left": null
          }
        },
        "242497eb20324bba96292b11e172b22a": {
          "model_module": "@jupyter-widgets/controls",
          "model_name": "FloatProgressModel",
          "state": {
            "_view_name": "ProgressView",
            "style": "IPY_MODEL_33cb2e2a27cf494785137b1a10f27ad2",
            "_dom_classes": [],
            "description": "Downloading: 100%",
            "_model_name": "FloatProgressModel",
            "bar_style": "success",
            "max": 231508,
            "_view_module": "@jupyter-widgets/controls",
            "_model_module_version": "1.5.0",
            "value": 231508,
            "_view_count": null,
            "_view_module_version": "1.5.0",
            "orientation": "horizontal",
            "min": 0,
            "description_tooltip": null,
            "_model_module": "@jupyter-widgets/controls",
            "layout": "IPY_MODEL_85e033371b3e408aabdfcb17acc5ac32"
          }
        },
        "e98a9f343ca843b1baa6ff27bf10ff95": {
          "model_module": "@jupyter-widgets/controls",
          "model_name": "HTMLModel",
          "state": {
            "_view_name": "HTMLView",
            "style": "IPY_MODEL_b11165ab9a02410a9b24c4e5fefcc5f9",
            "_dom_classes": [],
            "description": "",
            "_model_name": "HTMLModel",
            "placeholder": "​",
            "_view_module": "@jupyter-widgets/controls",
            "_model_module_version": "1.5.0",
            "value": " 232k/232k [00:05&lt;00:00, 40.5kB/s]",
            "_view_count": null,
            "_view_module_version": "1.5.0",
            "description_tooltip": null,
            "_model_module": "@jupyter-widgets/controls",
            "layout": "IPY_MODEL_93be0807c0cc416eb7a7ad63c89f088b"
          }
        },
        "33cb2e2a27cf494785137b1a10f27ad2": {
          "model_module": "@jupyter-widgets/controls",
          "model_name": "ProgressStyleModel",
          "state": {
            "_view_name": "StyleView",
            "_model_name": "ProgressStyleModel",
            "description_width": "initial",
            "_view_module": "@jupyter-widgets/base",
            "_model_module_version": "1.5.0",
            "_view_count": null,
            "_view_module_version": "1.2.0",
            "bar_color": null,
            "_model_module": "@jupyter-widgets/controls"
          }
        },
        "85e033371b3e408aabdfcb17acc5ac32": {
          "model_module": "@jupyter-widgets/base",
          "model_name": "LayoutModel",
          "state": {
            "_view_name": "LayoutView",
            "grid_template_rows": null,
            "right": null,
            "justify_content": null,
            "_view_module": "@jupyter-widgets/base",
            "overflow": null,
            "_model_module_version": "1.2.0",
            "_view_count": null,
            "flex_flow": null,
            "width": null,
            "min_width": null,
            "border": null,
            "align_items": null,
            "bottom": null,
            "_model_module": "@jupyter-widgets/base",
            "top": null,
            "grid_column": null,
            "overflow_y": null,
            "overflow_x": null,
            "grid_auto_flow": null,
            "grid_area": null,
            "grid_template_columns": null,
            "flex": null,
            "_model_name": "LayoutModel",
            "justify_items": null,
            "grid_row": null,
            "max_height": null,
            "align_content": null,
            "visibility": null,
            "align_self": null,
            "height": null,
            "min_height": null,
            "padding": null,
            "grid_auto_rows": null,
            "grid_gap": null,
            "max_width": null,
            "order": null,
            "_view_module_version": "1.2.0",
            "grid_template_areas": null,
            "object_position": null,
            "object_fit": null,
            "grid_auto_columns": null,
            "margin": null,
            "display": null,
            "left": null
          }
        },
        "b11165ab9a02410a9b24c4e5fefcc5f9": {
          "model_module": "@jupyter-widgets/controls",
          "model_name": "DescriptionStyleModel",
          "state": {
            "_view_name": "StyleView",
            "_model_name": "DescriptionStyleModel",
            "description_width": "",
            "_view_module": "@jupyter-widgets/base",
            "_model_module_version": "1.5.0",
            "_view_count": null,
            "_view_module_version": "1.2.0",
            "_model_module": "@jupyter-widgets/controls"
          }
        },
        "93be0807c0cc416eb7a7ad63c89f088b": {
          "model_module": "@jupyter-widgets/base",
          "model_name": "LayoutModel",
          "state": {
            "_view_name": "LayoutView",
            "grid_template_rows": null,
            "right": null,
            "justify_content": null,
            "_view_module": "@jupyter-widgets/base",
            "overflow": null,
            "_model_module_version": "1.2.0",
            "_view_count": null,
            "flex_flow": null,
            "width": null,
            "min_width": null,
            "border": null,
            "align_items": null,
            "bottom": null,
            "_model_module": "@jupyter-widgets/base",
            "top": null,
            "grid_column": null,
            "overflow_y": null,
            "overflow_x": null,
            "grid_auto_flow": null,
            "grid_area": null,
            "grid_template_columns": null,
            "flex": null,
            "_model_name": "LayoutModel",
            "justify_items": null,
            "grid_row": null,
            "max_height": null,
            "align_content": null,
            "visibility": null,
            "align_self": null,
            "height": null,
            "min_height": null,
            "padding": null,
            "grid_auto_rows": null,
            "grid_gap": null,
            "max_width": null,
            "order": null,
            "_view_module_version": "1.2.0",
            "grid_template_areas": null,
            "object_position": null,
            "object_fit": null,
            "grid_auto_columns": null,
            "margin": null,
            "display": null,
            "left": null
          }
        },
        "456bd99aef904d82a22a79e700c3382e": {
          "model_module": "@jupyter-widgets/controls",
          "model_name": "HBoxModel",
          "state": {
            "_view_name": "HBoxView",
            "_dom_classes": [],
            "_model_name": "HBoxModel",
            "_view_module": "@jupyter-widgets/controls",
            "_model_module_version": "1.5.0",
            "_view_count": null,
            "_view_module_version": "1.5.0",
            "box_style": "",
            "layout": "IPY_MODEL_7f51ed612d8a415bb6c6aee5d8e144ca",
            "_model_module": "@jupyter-widgets/controls",
            "children": [
              "IPY_MODEL_1d92852f505d4f6c869e63e7d5d99cba",
              "IPY_MODEL_86748b7fbdb1407e95b5942d03768cf7"
            ]
          }
        },
        "7f51ed612d8a415bb6c6aee5d8e144ca": {
          "model_module": "@jupyter-widgets/base",
          "model_name": "LayoutModel",
          "state": {
            "_view_name": "LayoutView",
            "grid_template_rows": null,
            "right": null,
            "justify_content": null,
            "_view_module": "@jupyter-widgets/base",
            "overflow": null,
            "_model_module_version": "1.2.0",
            "_view_count": null,
            "flex_flow": null,
            "width": null,
            "min_width": null,
            "border": null,
            "align_items": null,
            "bottom": null,
            "_model_module": "@jupyter-widgets/base",
            "top": null,
            "grid_column": null,
            "overflow_y": null,
            "overflow_x": null,
            "grid_auto_flow": null,
            "grid_area": null,
            "grid_template_columns": null,
            "flex": null,
            "_model_name": "LayoutModel",
            "justify_items": null,
            "grid_row": null,
            "max_height": null,
            "align_content": null,
            "visibility": null,
            "align_self": null,
            "height": null,
            "min_height": null,
            "padding": null,
            "grid_auto_rows": null,
            "grid_gap": null,
            "max_width": null,
            "order": null,
            "_view_module_version": "1.2.0",
            "grid_template_areas": null,
            "object_position": null,
            "object_fit": null,
            "grid_auto_columns": null,
            "margin": null,
            "display": null,
            "left": null
          }
        },
        "1d92852f505d4f6c869e63e7d5d99cba": {
          "model_module": "@jupyter-widgets/controls",
          "model_name": "FloatProgressModel",
          "state": {
            "_view_name": "ProgressView",
            "style": "IPY_MODEL_b50d3e5278ea4c119a716a51a8c46cce",
            "_dom_classes": [],
            "description": "Downloading: 100%",
            "_model_name": "FloatProgressModel",
            "bar_style": "success",
            "max": 466062,
            "_view_module": "@jupyter-widgets/controls",
            "_model_module_version": "1.5.0",
            "value": 466062,
            "_view_count": null,
            "_view_module_version": "1.5.0",
            "orientation": "horizontal",
            "min": 0,
            "description_tooltip": null,
            "_model_module": "@jupyter-widgets/controls",
            "layout": "IPY_MODEL_c6d08c22dc7045cc90aec452c2689baa"
          }
        },
        "86748b7fbdb1407e95b5942d03768cf7": {
          "model_module": "@jupyter-widgets/controls",
          "model_name": "HTMLModel",
          "state": {
            "_view_name": "HTMLView",
            "style": "IPY_MODEL_931b75caf87a4b7888cbcbb72d5d8738",
            "_dom_classes": [],
            "description": "",
            "_model_name": "HTMLModel",
            "placeholder": "​",
            "_view_module": "@jupyter-widgets/controls",
            "_model_module_version": "1.5.0",
            "value": " 466k/466k [00:05&lt;00:00, 85.5kB/s]",
            "_view_count": null,
            "_view_module_version": "1.5.0",
            "description_tooltip": null,
            "_model_module": "@jupyter-widgets/controls",
            "layout": "IPY_MODEL_b9b40a89144f448ea95d7d6878e7b905"
          }
        },
        "b50d3e5278ea4c119a716a51a8c46cce": {
          "model_module": "@jupyter-widgets/controls",
          "model_name": "ProgressStyleModel",
          "state": {
            "_view_name": "StyleView",
            "_model_name": "ProgressStyleModel",
            "description_width": "initial",
            "_view_module": "@jupyter-widgets/base",
            "_model_module_version": "1.5.0",
            "_view_count": null,
            "_view_module_version": "1.2.0",
            "bar_color": null,
            "_model_module": "@jupyter-widgets/controls"
          }
        },
        "c6d08c22dc7045cc90aec452c2689baa": {
          "model_module": "@jupyter-widgets/base",
          "model_name": "LayoutModel",
          "state": {
            "_view_name": "LayoutView",
            "grid_template_rows": null,
            "right": null,
            "justify_content": null,
            "_view_module": "@jupyter-widgets/base",
            "overflow": null,
            "_model_module_version": "1.2.0",
            "_view_count": null,
            "flex_flow": null,
            "width": null,
            "min_width": null,
            "border": null,
            "align_items": null,
            "bottom": null,
            "_model_module": "@jupyter-widgets/base",
            "top": null,
            "grid_column": null,
            "overflow_y": null,
            "overflow_x": null,
            "grid_auto_flow": null,
            "grid_area": null,
            "grid_template_columns": null,
            "flex": null,
            "_model_name": "LayoutModel",
            "justify_items": null,
            "grid_row": null,
            "max_height": null,
            "align_content": null,
            "visibility": null,
            "align_self": null,
            "height": null,
            "min_height": null,
            "padding": null,
            "grid_auto_rows": null,
            "grid_gap": null,
            "max_width": null,
            "order": null,
            "_view_module_version": "1.2.0",
            "grid_template_areas": null,
            "object_position": null,
            "object_fit": null,
            "grid_auto_columns": null,
            "margin": null,
            "display": null,
            "left": null
          }
        },
        "931b75caf87a4b7888cbcbb72d5d8738": {
          "model_module": "@jupyter-widgets/controls",
          "model_name": "DescriptionStyleModel",
          "state": {
            "_view_name": "StyleView",
            "_model_name": "DescriptionStyleModel",
            "description_width": "",
            "_view_module": "@jupyter-widgets/base",
            "_model_module_version": "1.5.0",
            "_view_count": null,
            "_view_module_version": "1.2.0",
            "_model_module": "@jupyter-widgets/controls"
          }
        },
        "b9b40a89144f448ea95d7d6878e7b905": {
          "model_module": "@jupyter-widgets/base",
          "model_name": "LayoutModel",
          "state": {
            "_view_name": "LayoutView",
            "grid_template_rows": null,
            "right": null,
            "justify_content": null,
            "_view_module": "@jupyter-widgets/base",
            "overflow": null,
            "_model_module_version": "1.2.0",
            "_view_count": null,
            "flex_flow": null,
            "width": null,
            "min_width": null,
            "border": null,
            "align_items": null,
            "bottom": null,
            "_model_module": "@jupyter-widgets/base",
            "top": null,
            "grid_column": null,
            "overflow_y": null,
            "overflow_x": null,
            "grid_auto_flow": null,
            "grid_area": null,
            "grid_template_columns": null,
            "flex": null,
            "_model_name": "LayoutModel",
            "justify_items": null,
            "grid_row": null,
            "max_height": null,
            "align_content": null,
            "visibility": null,
            "align_self": null,
            "height": null,
            "min_height": null,
            "padding": null,
            "grid_auto_rows": null,
            "grid_gap": null,
            "max_width": null,
            "order": null,
            "_view_module_version": "1.2.0",
            "grid_template_areas": null,
            "object_position": null,
            "object_fit": null,
            "grid_auto_columns": null,
            "margin": null,
            "display": null,
            "left": null
          }
        },
        "ba2554e4415e41fa88511dc9f4fe835c": {
          "model_module": "@jupyter-widgets/controls",
          "model_name": "HBoxModel",
          "state": {
            "_view_name": "HBoxView",
            "_dom_classes": [],
            "_model_name": "HBoxModel",
            "_view_module": "@jupyter-widgets/controls",
            "_model_module_version": "1.5.0",
            "_view_count": null,
            "_view_module_version": "1.5.0",
            "box_style": "",
            "layout": "IPY_MODEL_6984756d84d84ab79c626f8b9a016358",
            "_model_module": "@jupyter-widgets/controls",
            "children": [
              "IPY_MODEL_ec6f9f2a296a41f1a5c0c6f4090c9e2c",
              "IPY_MODEL_81fec4320c1144d4a73ec019e3c2ba64"
            ]
          }
        },
        "6984756d84d84ab79c626f8b9a016358": {
          "model_module": "@jupyter-widgets/base",
          "model_name": "LayoutModel",
          "state": {
            "_view_name": "LayoutView",
            "grid_template_rows": null,
            "right": null,
            "justify_content": null,
            "_view_module": "@jupyter-widgets/base",
            "overflow": null,
            "_model_module_version": "1.2.0",
            "_view_count": null,
            "flex_flow": null,
            "width": null,
            "min_width": null,
            "border": null,
            "align_items": null,
            "bottom": null,
            "_model_module": "@jupyter-widgets/base",
            "top": null,
            "grid_column": null,
            "overflow_y": null,
            "overflow_x": null,
            "grid_auto_flow": null,
            "grid_area": null,
            "grid_template_columns": null,
            "flex": null,
            "_model_name": "LayoutModel",
            "justify_items": null,
            "grid_row": null,
            "max_height": null,
            "align_content": null,
            "visibility": null,
            "align_self": null,
            "height": null,
            "min_height": null,
            "padding": null,
            "grid_auto_rows": null,
            "grid_gap": null,
            "max_width": null,
            "order": null,
            "_view_module_version": "1.2.0",
            "grid_template_areas": null,
            "object_position": null,
            "object_fit": null,
            "grid_auto_columns": null,
            "margin": null,
            "display": null,
            "left": null
          }
        },
        "ec6f9f2a296a41f1a5c0c6f4090c9e2c": {
          "model_module": "@jupyter-widgets/controls",
          "model_name": "FloatProgressModel",
          "state": {
            "_view_name": "ProgressView",
            "style": "IPY_MODEL_daa2a75042a143c6a1b599df1bade528",
            "_dom_classes": [],
            "description": "Downloading: 100%",
            "_model_name": "FloatProgressModel",
            "bar_style": "success",
            "max": 442,
            "_view_module": "@jupyter-widgets/controls",
            "_model_module_version": "1.5.0",
            "value": 442,
            "_view_count": null,
            "_view_module_version": "1.5.0",
            "orientation": "horizontal",
            "min": 0,
            "description_tooltip": null,
            "_model_module": "@jupyter-widgets/controls",
            "layout": "IPY_MODEL_eba38d85ba5a417991a9ea7f65315c8c"
          }
        },
        "81fec4320c1144d4a73ec019e3c2ba64": {
          "model_module": "@jupyter-widgets/controls",
          "model_name": "HTMLModel",
          "state": {
            "_view_name": "HTMLView",
            "style": "IPY_MODEL_da5d7808fb0e4c43a1031557102dd95f",
            "_dom_classes": [],
            "description": "",
            "_model_name": "HTMLModel",
            "placeholder": "​",
            "_view_module": "@jupyter-widgets/controls",
            "_model_module_version": "1.5.0",
            "value": " 442/442 [00:23&lt;00:00, 18.7B/s]",
            "_view_count": null,
            "_view_module_version": "1.5.0",
            "description_tooltip": null,
            "_model_module": "@jupyter-widgets/controls",
            "layout": "IPY_MODEL_d2ca585013ab4777bfb949664c1a83bc"
          }
        },
        "daa2a75042a143c6a1b599df1bade528": {
          "model_module": "@jupyter-widgets/controls",
          "model_name": "ProgressStyleModel",
          "state": {
            "_view_name": "StyleView",
            "_model_name": "ProgressStyleModel",
            "description_width": "initial",
            "_view_module": "@jupyter-widgets/base",
            "_model_module_version": "1.5.0",
            "_view_count": null,
            "_view_module_version": "1.2.0",
            "bar_color": null,
            "_model_module": "@jupyter-widgets/controls"
          }
        },
        "eba38d85ba5a417991a9ea7f65315c8c": {
          "model_module": "@jupyter-widgets/base",
          "model_name": "LayoutModel",
          "state": {
            "_view_name": "LayoutView",
            "grid_template_rows": null,
            "right": null,
            "justify_content": null,
            "_view_module": "@jupyter-widgets/base",
            "overflow": null,
            "_model_module_version": "1.2.0",
            "_view_count": null,
            "flex_flow": null,
            "width": null,
            "min_width": null,
            "border": null,
            "align_items": null,
            "bottom": null,
            "_model_module": "@jupyter-widgets/base",
            "top": null,
            "grid_column": null,
            "overflow_y": null,
            "overflow_x": null,
            "grid_auto_flow": null,
            "grid_area": null,
            "grid_template_columns": null,
            "flex": null,
            "_model_name": "LayoutModel",
            "justify_items": null,
            "grid_row": null,
            "max_height": null,
            "align_content": null,
            "visibility": null,
            "align_self": null,
            "height": null,
            "min_height": null,
            "padding": null,
            "grid_auto_rows": null,
            "grid_gap": null,
            "max_width": null,
            "order": null,
            "_view_module_version": "1.2.0",
            "grid_template_areas": null,
            "object_position": null,
            "object_fit": null,
            "grid_auto_columns": null,
            "margin": null,
            "display": null,
            "left": null
          }
        },
        "da5d7808fb0e4c43a1031557102dd95f": {
          "model_module": "@jupyter-widgets/controls",
          "model_name": "DescriptionStyleModel",
          "state": {
            "_view_name": "StyleView",
            "_model_name": "DescriptionStyleModel",
            "description_width": "",
            "_view_module": "@jupyter-widgets/base",
            "_model_module_version": "1.5.0",
            "_view_count": null,
            "_view_module_version": "1.2.0",
            "_model_module": "@jupyter-widgets/controls"
          }
        },
        "d2ca585013ab4777bfb949664c1a83bc": {
          "model_module": "@jupyter-widgets/base",
          "model_name": "LayoutModel",
          "state": {
            "_view_name": "LayoutView",
            "grid_template_rows": null,
            "right": null,
            "justify_content": null,
            "_view_module": "@jupyter-widgets/base",
            "overflow": null,
            "_model_module_version": "1.2.0",
            "_view_count": null,
            "flex_flow": null,
            "width": null,
            "min_width": null,
            "border": null,
            "align_items": null,
            "bottom": null,
            "_model_module": "@jupyter-widgets/base",
            "top": null,
            "grid_column": null,
            "overflow_y": null,
            "overflow_x": null,
            "grid_auto_flow": null,
            "grid_area": null,
            "grid_template_columns": null,
            "flex": null,
            "_model_name": "LayoutModel",
            "justify_items": null,
            "grid_row": null,
            "max_height": null,
            "align_content": null,
            "visibility": null,
            "align_self": null,
            "height": null,
            "min_height": null,
            "padding": null,
            "grid_auto_rows": null,
            "grid_gap": null,
            "max_width": null,
            "order": null,
            "_view_module_version": "1.2.0",
            "grid_template_areas": null,
            "object_position": null,
            "object_fit": null,
            "grid_auto_columns": null,
            "margin": null,
            "display": null,
            "left": null
          }
        },
        "08177263c45c4540a082d01fde67fe8c": {
          "model_module": "@jupyter-widgets/controls",
          "model_name": "HBoxModel",
          "state": {
            "_view_name": "HBoxView",
            "_dom_classes": [],
            "_model_name": "HBoxModel",
            "_view_module": "@jupyter-widgets/controls",
            "_model_module_version": "1.5.0",
            "_view_count": null,
            "_view_module_version": "1.5.0",
            "box_style": "",
            "layout": "IPY_MODEL_1a6b6b46b2d2484f95c06b05a23ec27e",
            "_model_module": "@jupyter-widgets/controls",
            "children": [
              "IPY_MODEL_adc1e7d7dbee4904a40d9e740601286d",
              "IPY_MODEL_7f7c504fa7b8483f92d71650f1a362ff"
            ]
          }
        },
        "1a6b6b46b2d2484f95c06b05a23ec27e": {
          "model_module": "@jupyter-widgets/base",
          "model_name": "LayoutModel",
          "state": {
            "_view_name": "LayoutView",
            "grid_template_rows": null,
            "right": null,
            "justify_content": null,
            "_view_module": "@jupyter-widgets/base",
            "overflow": null,
            "_model_module_version": "1.2.0",
            "_view_count": null,
            "flex_flow": null,
            "width": null,
            "min_width": null,
            "border": null,
            "align_items": null,
            "bottom": null,
            "_model_module": "@jupyter-widgets/base",
            "top": null,
            "grid_column": null,
            "overflow_y": null,
            "overflow_x": null,
            "grid_auto_flow": null,
            "grid_area": null,
            "grid_template_columns": null,
            "flex": null,
            "_model_name": "LayoutModel",
            "justify_items": null,
            "grid_row": null,
            "max_height": null,
            "align_content": null,
            "visibility": null,
            "align_self": null,
            "height": null,
            "min_height": null,
            "padding": null,
            "grid_auto_rows": null,
            "grid_gap": null,
            "max_width": null,
            "order": null,
            "_view_module_version": "1.2.0",
            "grid_template_areas": null,
            "object_position": null,
            "object_fit": null,
            "grid_auto_columns": null,
            "margin": null,
            "display": null,
            "left": null
          }
        },
        "adc1e7d7dbee4904a40d9e740601286d": {
          "model_module": "@jupyter-widgets/controls",
          "model_name": "FloatProgressModel",
          "state": {
            "_view_name": "ProgressView",
            "style": "IPY_MODEL_43881a3190f84c9ab583fe183749e557",
            "_dom_classes": [],
            "description": "Downloading: 100%",
            "_model_name": "FloatProgressModel",
            "bar_style": "success",
            "max": 267967963,
            "_view_module": "@jupyter-widgets/controls",
            "_model_module_version": "1.5.0",
            "value": 267967963,
            "_view_count": null,
            "_view_module_version": "1.5.0",
            "orientation": "horizontal",
            "min": 0,
            "description_tooltip": null,
            "_model_module": "@jupyter-widgets/controls",
            "layout": "IPY_MODEL_346e54b404574690b8342e46dcfd1909"
          }
        },
        "7f7c504fa7b8483f92d71650f1a362ff": {
          "model_module": "@jupyter-widgets/controls",
          "model_name": "HTMLModel",
          "state": {
            "_view_name": "HTMLView",
            "style": "IPY_MODEL_6b618f0a2af24f42a32b3f9a2b542919",
            "_dom_classes": [],
            "description": "",
            "_model_name": "HTMLModel",
            "placeholder": "​",
            "_view_module": "@jupyter-widgets/controls",
            "_model_module_version": "1.5.0",
            "value": " 268M/268M [00:03&lt;00:00, 70.6MB/s]",
            "_view_count": null,
            "_view_module_version": "1.5.0",
            "description_tooltip": null,
            "_model_module": "@jupyter-widgets/controls",
            "layout": "IPY_MODEL_0ea5dab1f83c42978d999552f73f146b"
          }
        },
        "43881a3190f84c9ab583fe183749e557": {
          "model_module": "@jupyter-widgets/controls",
          "model_name": "ProgressStyleModel",
          "state": {
            "_view_name": "StyleView",
            "_model_name": "ProgressStyleModel",
            "description_width": "initial",
            "_view_module": "@jupyter-widgets/base",
            "_model_module_version": "1.5.0",
            "_view_count": null,
            "_view_module_version": "1.2.0",
            "bar_color": null,
            "_model_module": "@jupyter-widgets/controls"
          }
        },
        "346e54b404574690b8342e46dcfd1909": {
          "model_module": "@jupyter-widgets/base",
          "model_name": "LayoutModel",
          "state": {
            "_view_name": "LayoutView",
            "grid_template_rows": null,
            "right": null,
            "justify_content": null,
            "_view_module": "@jupyter-widgets/base",
            "overflow": null,
            "_model_module_version": "1.2.0",
            "_view_count": null,
            "flex_flow": null,
            "width": null,
            "min_width": null,
            "border": null,
            "align_items": null,
            "bottom": null,
            "_model_module": "@jupyter-widgets/base",
            "top": null,
            "grid_column": null,
            "overflow_y": null,
            "overflow_x": null,
            "grid_auto_flow": null,
            "grid_area": null,
            "grid_template_columns": null,
            "flex": null,
            "_model_name": "LayoutModel",
            "justify_items": null,
            "grid_row": null,
            "max_height": null,
            "align_content": null,
            "visibility": null,
            "align_self": null,
            "height": null,
            "min_height": null,
            "padding": null,
            "grid_auto_rows": null,
            "grid_gap": null,
            "max_width": null,
            "order": null,
            "_view_module_version": "1.2.0",
            "grid_template_areas": null,
            "object_position": null,
            "object_fit": null,
            "grid_auto_columns": null,
            "margin": null,
            "display": null,
            "left": null
          }
        },
        "6b618f0a2af24f42a32b3f9a2b542919": {
          "model_module": "@jupyter-widgets/controls",
          "model_name": "DescriptionStyleModel",
          "state": {
            "_view_name": "StyleView",
            "_model_name": "DescriptionStyleModel",
            "description_width": "",
            "_view_module": "@jupyter-widgets/base",
            "_model_module_version": "1.5.0",
            "_view_count": null,
            "_view_module_version": "1.2.0",
            "_model_module": "@jupyter-widgets/controls"
          }
        },
        "0ea5dab1f83c42978d999552f73f146b": {
          "model_module": "@jupyter-widgets/base",
          "model_name": "LayoutModel",
          "state": {
            "_view_name": "LayoutView",
            "grid_template_rows": null,
            "right": null,
            "justify_content": null,
            "_view_module": "@jupyter-widgets/base",
            "overflow": null,
            "_model_module_version": "1.2.0",
            "_view_count": null,
            "flex_flow": null,
            "width": null,
            "min_width": null,
            "border": null,
            "align_items": null,
            "bottom": null,
            "_model_module": "@jupyter-widgets/base",
            "top": null,
            "grid_column": null,
            "overflow_y": null,
            "overflow_x": null,
            "grid_auto_flow": null,
            "grid_area": null,
            "grid_template_columns": null,
            "flex": null,
            "_model_name": "LayoutModel",
            "justify_items": null,
            "grid_row": null,
            "max_height": null,
            "align_content": null,
            "visibility": null,
            "align_self": null,
            "height": null,
            "min_height": null,
            "padding": null,
            "grid_auto_rows": null,
            "grid_gap": null,
            "max_width": null,
            "order": null,
            "_view_module_version": "1.2.0",
            "grid_template_areas": null,
            "object_position": null,
            "object_fit": null,
            "grid_auto_columns": null,
            "margin": null,
            "display": null,
            "left": null
          }
        }
      }
    },
    "accelerator": "GPU"
  },
  "cells": [
    {
      "cell_type": "markdown",
      "metadata": {
        "id": "view-in-github",
        "colab_type": "text"
      },
      "source": [
        "<a href=\"https://colab.research.google.com/github/EHDEV/xitext_model_trainer/blob/main/trainer_nb-onnx.ipynb\" target=\"_parent\"><img src=\"https://colab.research.google.com/assets/colab-badge.svg\" alt=\"Open In Colab\"/></a>"
      ]
    },
    {
      "cell_type": "code",
      "metadata": {
        "colab": {
          "base_uri": "https://localhost:8080/"
        },
        "id": "0WrmYQ9wMIIu",
        "outputId": "d549b191-242d-4516-c289-228f2478d213"
      },
      "source": [
        "pip install transformers install onnxruntime onnxruntime-tools "
      ],
      "execution_count": 1,
      "outputs": [
        {
          "output_type": "stream",
          "text": [
            "Collecting transformers\n",
            "\u001b[?25l  Downloading https://files.pythonhosted.org/packages/50/0c/7d5950fcd80b029be0a8891727ba21e0cd27692c407c51261c3c921f6da3/transformers-4.1.1-py3-none-any.whl (1.5MB)\n",
            "\u001b[K     |████████████████████████████████| 1.5MB 15.8MB/s \n",
            "\u001b[?25hCollecting install\n",
            "  Downloading https://files.pythonhosted.org/packages/f0/a5/fd2eb807a9a593869ee8b7a6bcb4ad84a6eb31cef5c24d1bfbf7c938c13f/install-1.3.4-py3-none-any.whl\n",
            "Collecting onnxruntime\n",
            "\u001b[?25l  Downloading https://files.pythonhosted.org/packages/b3/a9/f009251fd1b91a2e1ce6f22d4b5be9936fbd0072842c5087a2a49706c509/onnxruntime-1.6.0-cp36-cp36m-manylinux2014_x86_64.whl (4.1MB)\n",
            "\u001b[K     |████████████████████████████████| 4.1MB 51.1MB/s \n",
            "\u001b[?25hCollecting onnxruntime-tools\n",
            "\u001b[?25l  Downloading https://files.pythonhosted.org/packages/2e/a1/3db4981685f20e08a58b372b8429fdbef1989edb0a7211075a08a22ec393/onnxruntime_tools-1.5.2-py3-none-any.whl (168kB)\n",
            "\u001b[K     |████████████████████████████████| 174kB 52.8MB/s \n",
            "\u001b[?25hRequirement already satisfied: filelock in /usr/local/lib/python3.6/dist-packages (from transformers) (3.0.12)\n",
            "Requirement already satisfied: tqdm>=4.27 in /usr/local/lib/python3.6/dist-packages (from transformers) (4.41.1)\n",
            "Collecting sacremoses\n",
            "\u001b[?25l  Downloading https://files.pythonhosted.org/packages/7d/34/09d19aff26edcc8eb2a01bed8e98f13a1537005d31e95233fd48216eed10/sacremoses-0.0.43.tar.gz (883kB)\n",
            "\u001b[K     |████████████████████████████████| 890kB 59.0MB/s \n",
            "\u001b[?25hRequirement already satisfied: requests in /usr/local/lib/python3.6/dist-packages (from transformers) (2.23.0)\n",
            "Requirement already satisfied: packaging in /usr/local/lib/python3.6/dist-packages (from transformers) (20.8)\n",
            "Requirement already satisfied: dataclasses; python_version < \"3.7\" in /usr/local/lib/python3.6/dist-packages (from transformers) (0.8)\n",
            "Collecting tokenizers==0.9.4\n",
            "\u001b[?25l  Downloading https://files.pythonhosted.org/packages/0f/1c/e789a8b12e28be5bc1ce2156cf87cb522b379be9cadc7ad8091a4cc107c4/tokenizers-0.9.4-cp36-cp36m-manylinux2010_x86_64.whl (2.9MB)\n",
            "\u001b[K     |████████████████████████████████| 2.9MB 53.4MB/s \n",
            "\u001b[?25hRequirement already satisfied: regex!=2019.12.17 in /usr/local/lib/python3.6/dist-packages (from transformers) (2019.12.20)\n",
            "Requirement already satisfied: numpy in /usr/local/lib/python3.6/dist-packages (from transformers) (1.19.5)\n",
            "Requirement already satisfied: protobuf in /usr/local/lib/python3.6/dist-packages (from onnxruntime) (3.12.4)\n",
            "Collecting coloredlogs\n",
            "\u001b[?25l  Downloading https://files.pythonhosted.org/packages/84/a6/837dbf6eac344cb74f0ba86b79e8180855570af3e26bcb1ea5f650cf944c/coloredlogs-15.0-py2.py3-none-any.whl (45kB)\n",
            "\u001b[K     |████████████████████████████████| 51kB 9.1MB/s \n",
            "\u001b[?25hRequirement already satisfied: psutil in /usr/local/lib/python3.6/dist-packages (from onnxruntime-tools) (5.4.8)\n",
            "Collecting py-cpuinfo\n",
            "\u001b[?25l  Downloading https://files.pythonhosted.org/packages/f6/f5/8e6e85ce2e9f6e05040cf0d4e26f43a4718bcc4bce988b433276d4b1a5c1/py-cpuinfo-7.0.0.tar.gz (95kB)\n",
            "\u001b[K     |████████████████████████████████| 102kB 14.8MB/s \n",
            "\u001b[?25hCollecting py3nvml\n",
            "\u001b[?25l  Downloading https://files.pythonhosted.org/packages/53/b3/cb30dd8cc1198ae3fdb5a320ca7986d7ca76e23d16415067eafebff8685f/py3nvml-0.2.6-py3-none-any.whl (55kB)\n",
            "\u001b[K     |████████████████████████████████| 61kB 10.1MB/s \n",
            "\u001b[?25hCollecting onnx\n",
            "\u001b[?25l  Downloading https://files.pythonhosted.org/packages/2a/82/e8d0fb64df623a3b716145192ed50604f444889778b37e0e9262753d5046/onnx-1.8.0-cp36-cp36m-manylinux2010_x86_64.whl (7.7MB)\n",
            "\u001b[K     |████████████████████████████████| 7.7MB 21.6MB/s \n",
            "\u001b[?25hRequirement already satisfied: six in /usr/local/lib/python3.6/dist-packages (from sacremoses->transformers) (1.15.0)\n",
            "Requirement already satisfied: click in /usr/local/lib/python3.6/dist-packages (from sacremoses->transformers) (7.1.2)\n",
            "Requirement already satisfied: joblib in /usr/local/lib/python3.6/dist-packages (from sacremoses->transformers) (1.0.0)\n",
            "Requirement already satisfied: urllib3!=1.25.0,!=1.25.1,<1.26,>=1.21.1 in /usr/local/lib/python3.6/dist-packages (from requests->transformers) (1.24.3)\n",
            "Requirement already satisfied: chardet<4,>=3.0.2 in /usr/local/lib/python3.6/dist-packages (from requests->transformers) (3.0.4)\n",
            "Requirement already satisfied: certifi>=2017.4.17 in /usr/local/lib/python3.6/dist-packages (from requests->transformers) (2020.12.5)\n",
            "Requirement already satisfied: idna<3,>=2.5 in /usr/local/lib/python3.6/dist-packages (from requests->transformers) (2.10)\n",
            "Requirement already satisfied: pyparsing>=2.0.2 in /usr/local/lib/python3.6/dist-packages (from packaging->transformers) (2.4.7)\n",
            "Requirement already satisfied: setuptools in /usr/local/lib/python3.6/dist-packages (from protobuf->onnxruntime) (51.1.1)\n",
            "Collecting humanfriendly>=9.1\n",
            "\u001b[?25l  Downloading https://files.pythonhosted.org/packages/93/66/363d01a81da2108a5cf446daf619779f06d49a0c4426dd02b40734f10e2f/humanfriendly-9.1-py2.py3-none-any.whl (86kB)\n",
            "\u001b[K     |████████████████████████████████| 92kB 11.7MB/s \n",
            "\u001b[?25hCollecting xmltodict\n",
            "  Downloading https://files.pythonhosted.org/packages/28/fd/30d5c1d3ac29ce229f6bdc40bbc20b28f716e8b363140c26eff19122d8a5/xmltodict-0.12.0-py2.py3-none-any.whl\n",
            "Requirement already satisfied: typing-extensions>=3.6.2.1 in /usr/local/lib/python3.6/dist-packages (from onnx->onnxruntime-tools) (3.7.4.3)\n",
            "Building wheels for collected packages: sacremoses, py-cpuinfo\n",
            "  Building wheel for sacremoses (setup.py) ... \u001b[?25l\u001b[?25hdone\n",
            "  Created wheel for sacremoses: filename=sacremoses-0.0.43-cp36-none-any.whl size=893261 sha256=2ebc964589e225d9a29fa383e15a132bce2e6509655c64bdcc946f2d7ddff7c6\n",
            "  Stored in directory: /root/.cache/pip/wheels/29/3c/fd/7ce5c3f0666dab31a50123635e6fb5e19ceb42ce38d4e58f45\n",
            "  Building wheel for py-cpuinfo (setup.py) ... \u001b[?25l\u001b[?25hdone\n",
            "  Created wheel for py-cpuinfo: filename=py_cpuinfo-7.0.0-cp36-none-any.whl size=20072 sha256=d3b661e91c2fd069ac4e889ef25727ebe866a4cc7dd9d49379fe8374aba1917a\n",
            "  Stored in directory: /root/.cache/pip/wheels/f1/93/7b/127daf0c3a5a49feb2fecd468d508067c733fba5192f726ad1\n",
            "Successfully built sacremoses py-cpuinfo\n",
            "Installing collected packages: sacremoses, tokenizers, transformers, install, onnxruntime, humanfriendly, coloredlogs, py-cpuinfo, xmltodict, py3nvml, onnx, onnxruntime-tools\n",
            "Successfully installed coloredlogs-15.0 humanfriendly-9.1 install-1.3.4 onnx-1.8.0 onnxruntime-1.6.0 onnxruntime-tools-1.5.2 py-cpuinfo-7.0.0 py3nvml-0.2.6 sacremoses-0.0.43 tokenizers-0.9.4 transformers-4.1.1 xmltodict-0.12.0\n"
          ],
          "name": "stdout"
        }
      ]
    },
    {
      "cell_type": "markdown",
      "metadata": {
        "id": "WxIAxvRXCGvS"
      },
      "source": [
        "### Download repo and set working directory\n",
        "- Get the latest trainer code from github\n",
        "- set working directory then execute code"
      ]
    },
    {
      "cell_type": "code",
      "metadata": {
        "colab": {
          "base_uri": "https://localhost:8080/"
        },
        "id": "4CtaeKjzwfF7",
        "outputId": "c179e685-161d-4639-a671-4fce34da247c"
      },
      "source": [
        "%%shell\n",
        "\n",
        "export HOME=/content/drive/MyDrive/xitext\n",
        "export GH_REPO=xitext_model_trainer\n",
        "cd $HOME\n",
        "git clone  https://github.com/EHDEV/${GH_REPO}.git  || (cd $GH_REPO; git pull)\n"
      ],
      "execution_count": 7,
      "outputs": [
        {
          "output_type": "stream",
          "text": [
            "fatal: destination path 'xitext_model_trainer' already exists and is not an empty directory.\n",
            "Already up to date.\n"
          ],
          "name": "stdout"
        },
        {
          "output_type": "execute_result",
          "data": {
            "text/plain": [
              ""
            ]
          },
          "metadata": {
            "tags": []
          },
          "execution_count": 7
        }
      ]
    },
    {
      "cell_type": "code",
      "metadata": {
        "colab": {
          "base_uri": "https://localhost:8080/"
        },
        "id": "XpgC7YkcwuWE",
        "outputId": "77d9a655-8e4f-4ca1-dec2-b49173e58387"
      },
      "source": [
        "cd /content/drive/MyDrive/xitext/xitext_model_trainer/"
      ],
      "execution_count": 21,
      "outputs": [
        {
          "output_type": "stream",
          "text": [
            "/content/drive/MyDrive/xitext/xitext_model_trainer\n"
          ],
          "name": "stdout"
        }
      ]
    },
    {
      "cell_type": "markdown",
      "metadata": {
        "id": "9UdZTPR7Cdz-"
      },
      "source": [
        "#### Import classes and required functions"
      ]
    },
    {
      "cell_type": "code",
      "metadata": {
        "id": "KYVIsscPML1G"
      },
      "source": [
        "from file_config import FileConfig\n",
        "from models import SequenceClassifierModel\n",
        "from convert_optimize_onnx import TorchToONNX\n",
        "from data_preprocess import TextClassifierData, _encode_text_into_tokens\n",
        "from pathlib import Path\n",
        "import torch"
      ],
      "execution_count": 22,
      "outputs": []
    },
    {
      "cell_type": "markdown",
      "metadata": {
        "id": "yXix1WxsCpRa"
      },
      "source": [
        "#### Set data file path and other configurations of the file"
      ]
    },
    {
      "cell_type": "code",
      "metadata": {
        "id": "y1wUt1Z0MqYy"
      },
      "source": [
        "fconfig = FileConfig(\n",
        "    path_to_directory=Path('/content/drive/MyDrive/datasets/'), \n",
        "    target_column='topic',\n",
        "    sequence_column='text',\n",
        "    delimiter=',')\n"
      ],
      "execution_count": 23,
      "outputs": []
    },
    {
      "cell_type": "code",
      "metadata": {
        "colab": {
          "base_uri": "https://localhost:8080/",
          "height": 730,
          "referenced_widgets": [
            "7550dd7e85694e4db57be83ad8c4d724",
            "ab79440d14014c3491110300f4a0ff8b",
            "242497eb20324bba96292b11e172b22a",
            "e98a9f343ca843b1baa6ff27bf10ff95",
            "33cb2e2a27cf494785137b1a10f27ad2",
            "85e033371b3e408aabdfcb17acc5ac32",
            "b11165ab9a02410a9b24c4e5fefcc5f9",
            "93be0807c0cc416eb7a7ad63c89f088b",
            "456bd99aef904d82a22a79e700c3382e",
            "7f51ed612d8a415bb6c6aee5d8e144ca",
            "1d92852f505d4f6c869e63e7d5d99cba",
            "86748b7fbdb1407e95b5942d03768cf7",
            "b50d3e5278ea4c119a716a51a8c46cce",
            "c6d08c22dc7045cc90aec452c2689baa",
            "931b75caf87a4b7888cbcbb72d5d8738",
            "b9b40a89144f448ea95d7d6878e7b905"
          ]
        },
        "id": "pLtVr9nzSSBZ",
        "outputId": "eab9d840-3164-49d0-ad49-58dfb14460a0"
      },
      "source": [
        "text_clas_data = TextClassifierData(fconfig)\n",
        "train_data, val_data = text_clas_data.preprocess()"
      ],
      "execution_count": 24,
      "outputs": [
        {
          "output_type": "stream",
          "text": [
            "DEBUG:data-preprocessing.log:load data started\n",
            "DEBUG:data-preprocessing.log:dataframe with shape (200853, 2) has been created\n",
            "INFO:numexpr.utils:NumExpr defaulting to 2 threads.\n",
            "DEBUG:data-preprocessing.log:sentence column cleaned\n",
            "DEBUG:data-preprocessing.log:Clean_label_column complete\n",
            "DEBUG:data-preprocessing.log:Underrepresented classes have been removed and data condensed\n",
            "DEBUG:data-preprocessing.log:preparing data for training: train/val split and convert to tensor\n",
            "DEBUG:data-preprocessing.log:train test split completed\n",
            "DEBUG:data-preprocessing.log:Tokenizing train and valid data\n",
            "DEBUG:urllib3.connectionpool:Starting new HTTPS connection (1): huggingface.co:443\n",
            "DEBUG:urllib3.connectionpool:https://huggingface.co:443 \"HEAD /bert-base-uncased/resolve/main/vocab.txt HTTP/1.1\" 200 0\n",
            "DEBUG:filelock:Attempting to acquire lock 139620782640152 on /root/.cache/huggingface/transformers/45c3f7a79a80e1cf0a489e5c62b43f173c15db47864303a55d623bb3c96f72a5.d789d64ebfe299b0e416afc4a169632f903f693095b4629a7ea271d5a0cf2c99.lock\n",
            "INFO:filelock:Lock 139620782640152 acquired on /root/.cache/huggingface/transformers/45c3f7a79a80e1cf0a489e5c62b43f173c15db47864303a55d623bb3c96f72a5.d789d64ebfe299b0e416afc4a169632f903f693095b4629a7ea271d5a0cf2c99.lock\n",
            "DEBUG:urllib3.connectionpool:Starting new HTTPS connection (1): huggingface.co:443\n",
            "DEBUG:urllib3.connectionpool:https://huggingface.co:443 \"GET /bert-base-uncased/resolve/main/vocab.txt HTTP/1.1\" 200 231508\n"
          ],
          "name": "stderr"
        },
        {
          "output_type": "display_data",
          "data": {
            "application/vnd.jupyter.widget-view+json": {
              "model_id": "7550dd7e85694e4db57be83ad8c4d724",
              "version_minor": 0,
              "version_major": 2
            },
            "text/plain": [
              "HBox(children=(FloatProgress(value=0.0, description='Downloading', max=231508.0, style=ProgressStyle(descripti…"
            ]
          },
          "metadata": {
            "tags": []
          }
        },
        {
          "output_type": "stream",
          "text": [
            "DEBUG:filelock:Attempting to release lock 139620782640152 on /root/.cache/huggingface/transformers/45c3f7a79a80e1cf0a489e5c62b43f173c15db47864303a55d623bb3c96f72a5.d789d64ebfe299b0e416afc4a169632f903f693095b4629a7ea271d5a0cf2c99.lock\n",
            "INFO:filelock:Lock 139620782640152 released on /root/.cache/huggingface/transformers/45c3f7a79a80e1cf0a489e5c62b43f173c15db47864303a55d623bb3c96f72a5.d789d64ebfe299b0e416afc4a169632f903f693095b4629a7ea271d5a0cf2c99.lock\n",
            "DEBUG:urllib3.connectionpool:Starting new HTTPS connection (1): huggingface.co:443\n",
            "DEBUG:urllib3.connectionpool:https://huggingface.co:443 \"HEAD /bert-base-uncased/resolve/main/tokenizer.json HTTP/1.1\" 200 0\n",
            "DEBUG:filelock:Attempting to acquire lock 139619492086168 on /root/.cache/huggingface/transformers/534479488c54aeaf9c3406f647aa2ec13648c06771ffe269edabebd4c412da1d.7f2721073f19841be16f41b0a70b600ca6b880c8f3df6f3535cbc704371bdfa4.lock\n",
            "INFO:filelock:Lock 139619492086168 acquired on /root/.cache/huggingface/transformers/534479488c54aeaf9c3406f647aa2ec13648c06771ffe269edabebd4c412da1d.7f2721073f19841be16f41b0a70b600ca6b880c8f3df6f3535cbc704371bdfa4.lock\n",
            "DEBUG:urllib3.connectionpool:Starting new HTTPS connection (1): huggingface.co:443\n",
            "DEBUG:urllib3.connectionpool:https://huggingface.co:443 \"GET /bert-base-uncased/resolve/main/tokenizer.json HTTP/1.1\" 200 466062\n"
          ],
          "name": "stderr"
        },
        {
          "output_type": "stream",
          "text": [
            "\n"
          ],
          "name": "stdout"
        },
        {
          "output_type": "display_data",
          "data": {
            "application/vnd.jupyter.widget-view+json": {
              "model_id": "456bd99aef904d82a22a79e700c3382e",
              "version_minor": 0,
              "version_major": 2
            },
            "text/plain": [
              "HBox(children=(FloatProgress(value=0.0, description='Downloading', max=466062.0, style=ProgressStyle(descripti…"
            ]
          },
          "metadata": {
            "tags": []
          }
        },
        {
          "output_type": "stream",
          "text": [
            "DEBUG:filelock:Attempting to release lock 139619492086168 on /root/.cache/huggingface/transformers/534479488c54aeaf9c3406f647aa2ec13648c06771ffe269edabebd4c412da1d.7f2721073f19841be16f41b0a70b600ca6b880c8f3df6f3535cbc704371bdfa4.lock\n",
            "INFO:filelock:Lock 139619492086168 released on /root/.cache/huggingface/transformers/534479488c54aeaf9c3406f647aa2ec13648c06771ffe269edabebd4c412da1d.7f2721073f19841be16f41b0a70b600ca6b880c8f3df6f3535cbc704371bdfa4.lock\n"
          ],
          "name": "stderr"
        },
        {
          "output_type": "stream",
          "text": [
            "\n"
          ],
          "name": "stdout"
        },
        {
          "output_type": "stream",
          "text": [
            "DEBUG:data-preprocessing.log:Encoding input sentences completed\n",
            "DEBUG:urllib3.connectionpool:Starting new HTTPS connection (1): huggingface.co:443\n",
            "DEBUG:urllib3.connectionpool:https://huggingface.co:443 \"HEAD /bert-base-uncased/resolve/main/vocab.txt HTTP/1.1\" 200 0\n",
            "DEBUG:urllib3.connectionpool:Starting new HTTPS connection (1): huggingface.co:443\n",
            "DEBUG:urllib3.connectionpool:https://huggingface.co:443 \"HEAD /bert-base-uncased/resolve/main/tokenizer.json HTTP/1.1\" 200 0\n",
            "DEBUG:data-preprocessing.log:Encoding input sentences completed\n",
            "DEBUG:data-preprocessing.log:Wrapping tensors in dataloader completed\n",
            "DEBUG:data-preprocessing.log:Wrapping tensors in dataloader completed\n",
            "DEBUG:data-preprocessing.log:data preparation for training is complete. 2385 train and 597 validation examples\n",
            "DEBUG:data-preprocessing.log:Data preprocessing complete\n"
          ],
          "name": "stderr"
        }
      ]
    },
    {
      "cell_type": "markdown",
      "metadata": {
        "id": "3sqrAW7wHdNB"
      },
      "source": [
        "#### Write classes and their indices as a json in model directory"
      ]
    },
    {
      "cell_type": "code",
      "metadata": {
        "colab": {
          "base_uri": "https://localhost:8080/"
        },
        "id": "tTh9J-nISgI4",
        "outputId": "3dd86169-8163-4677-9a4e-4f0c425d9fe5"
      },
      "source": [
        "import json\n",
        "with open(torch_model_dir) as cfile:\n",
        "    cfile.write(json.dumps(\n",
        "        { k: v for k,v in enumerate(text_clas_data.classes) }\n",
        "    ))\n"
      ],
      "execution_count": 28,
      "outputs": [
        {
          "output_type": "execute_result",
          "data": {
            "text/plain": [
              "{0: 'arts',\n",
              " 1: 'arts & culture',\n",
              " 2: 'black voices',\n",
              " 3: 'business',\n",
              " 4: 'college',\n",
              " 5: 'comedy',\n",
              " 6: 'crime',\n",
              " 7: 'culture & arts',\n",
              " 8: 'divorce',\n",
              " 9: 'education',\n",
              " 10: 'entertainment',\n",
              " 11: 'environment',\n",
              " 12: 'fifty',\n",
              " 13: 'food & drink',\n",
              " 14: 'good news',\n",
              " 15: 'green',\n",
              " 16: 'healthy living',\n",
              " 17: 'home & living',\n",
              " 18: 'impact',\n",
              " 19: 'latino voices',\n",
              " 20: 'media',\n",
              " 21: 'money',\n",
              " 22: 'parenting',\n",
              " 23: 'parents',\n",
              " 24: 'politics',\n",
              " 25: 'queer voices',\n",
              " 26: 'religion',\n",
              " 27: 'science',\n",
              " 28: 'sports',\n",
              " 29: 'style',\n",
              " 30: 'style & beauty',\n",
              " 31: 'taste',\n",
              " 32: 'tech',\n",
              " 33: 'the worldpost',\n",
              " 34: 'travel',\n",
              " 35: 'weddings',\n",
              " 36: 'weird news',\n",
              " 37: 'wellness',\n",
              " 38: 'women',\n",
              " 39: 'world news',\n",
              " 40: 'worldpost'}"
            ]
          },
          "metadata": {
            "tags": []
          },
          "execution_count": 28
        }
      ]
    },
    {
      "cell_type": "code",
      "metadata": {
        "id": "VGpEuZqh8vQL"
      },
      "source": [
        "import os\n",
        "if not os.path.isdir('./data'):\n",
        "  os.mkdir('./data')\n",
        "\n",
        "torch.save(train_data, './data/topic-train.pth')\n",
        "torch.save(val_data, './data/topic-valid.pth')"
      ],
      "execution_count": 29,
      "outputs": []
    },
    {
      "cell_type": "code",
      "metadata": {
        "id": "caH8veZo87E0"
      },
      "source": [
        "train_data = torch.load('./data/topic-train.pth')\n",
        "val_data = torch.load('./data/topic-valid.pth')"
      ],
      "execution_count": 31,
      "outputs": []
    },
    {
      "cell_type": "code",
      "metadata": {
        "colab": {
          "base_uri": "https://localhost:8080/",
          "height": 1000,
          "referenced_widgets": [
            "ba2554e4415e41fa88511dc9f4fe835c",
            "6984756d84d84ab79c626f8b9a016358",
            "ec6f9f2a296a41f1a5c0c6f4090c9e2c",
            "81fec4320c1144d4a73ec019e3c2ba64",
            "daa2a75042a143c6a1b599df1bade528",
            "eba38d85ba5a417991a9ea7f65315c8c",
            "da5d7808fb0e4c43a1031557102dd95f",
            "d2ca585013ab4777bfb949664c1a83bc",
            "08177263c45c4540a082d01fde67fe8c",
            "1a6b6b46b2d2484f95c06b05a23ec27e",
            "adc1e7d7dbee4904a40d9e740601286d",
            "7f7c504fa7b8483f92d71650f1a362ff",
            "43881a3190f84c9ab583fe183749e557",
            "346e54b404574690b8342e46dcfd1909",
            "6b618f0a2af24f42a32b3f9a2b542919",
            "0ea5dab1f83c42978d999552f73f146b"
          ]
        },
        "id": "2iUtImdpXzY_",
        "outputId": "fb3aafa2-a3ea-4a02-f72a-ad7bd1cc2d6f"
      },
      "source": [
        "seq_model = SequenceClassifierModel(\n",
        "    this_project_name='news-topic-classifier', \n",
        "    model_group='distilbert',\n",
        "    optimizer='adam',\n",
        "    scheduler='linear',\n",
        "    num_labels=text_clas_data.num_labels,\n",
        "    epochs=4,\n",
        "    train_data=train_data,\n",
        "    val_data=val_data\n",
        ")\n",
        "\n",
        "seq_model.train()\n"
      ],
      "execution_count": 33,
      "outputs": [
        {
          "output_type": "stream",
          "text": [
            "DEBUG:urllib3.connectionpool:Starting new HTTPS connection (1): huggingface.co:443\n",
            "DEBUG:urllib3.connectionpool:https://huggingface.co:443 \"HEAD /distilbert-base-uncased/resolve/main/config.json HTTP/1.1\" 200 0\n",
            "DEBUG:filelock:Attempting to acquire lock 139619050919472 on /root/.cache/huggingface/transformers/23454919702d26495337f3da04d1655c7ee010d5ec9d77bdb9e399e00302c0a1.d423bdf2f58dc8b77d5f5d18028d7ae4a72dcfd8f468e81fe979ada957a8c361.lock\n",
            "INFO:filelock:Lock 139619050919472 acquired on /root/.cache/huggingface/transformers/23454919702d26495337f3da04d1655c7ee010d5ec9d77bdb9e399e00302c0a1.d423bdf2f58dc8b77d5f5d18028d7ae4a72dcfd8f468e81fe979ada957a8c361.lock\n",
            "DEBUG:urllib3.connectionpool:Starting new HTTPS connection (1): huggingface.co:443\n",
            "DEBUG:urllib3.connectionpool:https://huggingface.co:443 \"GET /distilbert-base-uncased/resolve/main/config.json HTTP/1.1\" 200 442\n"
          ],
          "name": "stderr"
        },
        {
          "output_type": "display_data",
          "data": {
            "application/vnd.jupyter.widget-view+json": {
              "model_id": "ba2554e4415e41fa88511dc9f4fe835c",
              "version_minor": 0,
              "version_major": 2
            },
            "text/plain": [
              "HBox(children=(FloatProgress(value=0.0, description='Downloading', max=442.0, style=ProgressStyle(description_…"
            ]
          },
          "metadata": {
            "tags": []
          }
        },
        {
          "output_type": "stream",
          "text": [
            "DEBUG:filelock:Attempting to release lock 139619050919472 on /root/.cache/huggingface/transformers/23454919702d26495337f3da04d1655c7ee010d5ec9d77bdb9e399e00302c0a1.d423bdf2f58dc8b77d5f5d18028d7ae4a72dcfd8f468e81fe979ada957a8c361.lock\n",
            "INFO:filelock:Lock 139619050919472 released on /root/.cache/huggingface/transformers/23454919702d26495337f3da04d1655c7ee010d5ec9d77bdb9e399e00302c0a1.d423bdf2f58dc8b77d5f5d18028d7ae4a72dcfd8f468e81fe979ada957a8c361.lock\n",
            "DEBUG:urllib3.connectionpool:Starting new HTTPS connection (1): huggingface.co:443\n",
            "DEBUG:urllib3.connectionpool:https://huggingface.co:443 \"HEAD /distilbert-base-uncased/resolve/main/pytorch_model.bin HTTP/1.1\" 302 0\n",
            "DEBUG:filelock:Attempting to acquire lock 139619501610992 on /root/.cache/huggingface/transformers/9c169103d7e5a73936dd2b627e42851bec0831212b677c637033ee4bce9ab5ee.126183e36667471617ae2f0835fab707baa54b731f991507ebbb55ea85adb12a.lock\n",
            "INFO:filelock:Lock 139619501610992 acquired on /root/.cache/huggingface/transformers/9c169103d7e5a73936dd2b627e42851bec0831212b677c637033ee4bce9ab5ee.126183e36667471617ae2f0835fab707baa54b731f991507ebbb55ea85adb12a.lock\n",
            "DEBUG:urllib3.connectionpool:Starting new HTTPS connection (1): cdn-lfs.huggingface.co:443\n",
            "DEBUG:urllib3.connectionpool:https://cdn-lfs.huggingface.co:443 \"GET /distilbert-base-uncased/e60d71610916da4787c5513c81bc026d415708528295502fb3e1a6fe1485ea7c HTTP/1.1\" 200 267967963\n"
          ],
          "name": "stderr"
        },
        {
          "output_type": "stream",
          "text": [
            "\n"
          ],
          "name": "stdout"
        },
        {
          "output_type": "display_data",
          "data": {
            "application/vnd.jupyter.widget-view+json": {
              "model_id": "08177263c45c4540a082d01fde67fe8c",
              "version_minor": 0,
              "version_major": 2
            },
            "text/plain": [
              "HBox(children=(FloatProgress(value=0.0, description='Downloading', max=267967963.0, style=ProgressStyle(descri…"
            ]
          },
          "metadata": {
            "tags": []
          }
        },
        {
          "output_type": "stream",
          "text": [
            "DEBUG:filelock:Attempting to release lock 139619501610992 on /root/.cache/huggingface/transformers/9c169103d7e5a73936dd2b627e42851bec0831212b677c637033ee4bce9ab5ee.126183e36667471617ae2f0835fab707baa54b731f991507ebbb55ea85adb12a.lock\n",
            "INFO:filelock:Lock 139619501610992 released on /root/.cache/huggingface/transformers/9c169103d7e5a73936dd2b627e42851bec0831212b677c637033ee4bce9ab5ee.126183e36667471617ae2f0835fab707baa54b731f991507ebbb55ea85adb12a.lock\n"
          ],
          "name": "stderr"
        },
        {
          "output_type": "stream",
          "text": [
            "\n"
          ],
          "name": "stdout"
        },
        {
          "output_type": "stream",
          "text": [
            "Some weights of the model checkpoint at distilbert-base-uncased were not used when initializing DistilBertForSequenceClassification: ['vocab_transform.weight', 'vocab_transform.bias', 'vocab_layer_norm.weight', 'vocab_layer_norm.bias', 'vocab_projector.weight', 'vocab_projector.bias']\n",
            "- This IS expected if you are initializing DistilBertForSequenceClassification from the checkpoint of a model trained on another task or with another architecture (e.g. initializing a BertForSequenceClassification model from a BertForPreTraining model).\n",
            "- This IS NOT expected if you are initializing DistilBertForSequenceClassification from the checkpoint of a model that you expect to be exactly identical (initializing a BertForSequenceClassification model from a BertForSequenceClassification model).\n",
            "Some weights of DistilBertForSequenceClassification were not initialized from the model checkpoint at distilbert-base-uncased and are newly initialized: ['pre_classifier.weight', 'pre_classifier.bias', 'classifier.weight', 'classifier.bias']\n",
            "You should probably TRAIN this model on a down-stream task to be able to use it for predictions and inference.\n",
            "DEBUG:model-training.log:model training on cuda\n",
            "DEBUG:model-training.log:DistilBertForSequenceClassification(\n",
            "  (distilbert): DistilBertModel(\n",
            "    (embeddings): Embeddings(\n",
            "      (word_embeddings): Embedding(30522, 768, padding_idx=0)\n",
            "      (position_embeddings): Embedding(512, 768)\n",
            "      (LayerNorm): LayerNorm((768,), eps=1e-12, elementwise_affine=True)\n",
            "      (dropout): Dropout(p=0.1, inplace=False)\n",
            "    )\n",
            "    (transformer): Transformer(\n",
            "      (layer): ModuleList(\n",
            "        (0): TransformerBlock(\n",
            "          (attention): MultiHeadSelfAttention(\n",
            "            (dropout): Dropout(p=0.1, inplace=False)\n",
            "            (q_lin): Linear(in_features=768, out_features=768, bias=True)\n",
            "            (k_lin): Linear(in_features=768, out_features=768, bias=True)\n",
            "            (v_lin): Linear(in_features=768, out_features=768, bias=True)\n",
            "            (out_lin): Linear(in_features=768, out_features=768, bias=True)\n",
            "          )\n",
            "          (sa_layer_norm): LayerNorm((768,), eps=1e-12, elementwise_affine=True)\n",
            "          (ffn): FFN(\n",
            "            (dropout): Dropout(p=0.1, inplace=False)\n",
            "            (lin1): Linear(in_features=768, out_features=3072, bias=True)\n",
            "            (lin2): Linear(in_features=3072, out_features=768, bias=True)\n",
            "          )\n",
            "          (output_layer_norm): LayerNorm((768,), eps=1e-12, elementwise_affine=True)\n",
            "        )\n",
            "        (1): TransformerBlock(\n",
            "          (attention): MultiHeadSelfAttention(\n",
            "            (dropout): Dropout(p=0.1, inplace=False)\n",
            "            (q_lin): Linear(in_features=768, out_features=768, bias=True)\n",
            "            (k_lin): Linear(in_features=768, out_features=768, bias=True)\n",
            "            (v_lin): Linear(in_features=768, out_features=768, bias=True)\n",
            "            (out_lin): Linear(in_features=768, out_features=768, bias=True)\n",
            "          )\n",
            "          (sa_layer_norm): LayerNorm((768,), eps=1e-12, elementwise_affine=True)\n",
            "          (ffn): FFN(\n",
            "            (dropout): Dropout(p=0.1, inplace=False)\n",
            "            (lin1): Linear(in_features=768, out_features=3072, bias=True)\n",
            "            (lin2): Linear(in_features=3072, out_features=768, bias=True)\n",
            "          )\n",
            "          (output_layer_norm): LayerNorm((768,), eps=1e-12, elementwise_affine=True)\n",
            "        )\n",
            "        (2): TransformerBlock(\n",
            "          (attention): MultiHeadSelfAttention(\n",
            "            (dropout): Dropout(p=0.1, inplace=False)\n",
            "            (q_lin): Linear(in_features=768, out_features=768, bias=True)\n",
            "            (k_lin): Linear(in_features=768, out_features=768, bias=True)\n",
            "            (v_lin): Linear(in_features=768, out_features=768, bias=True)\n",
            "            (out_lin): Linear(in_features=768, out_features=768, bias=True)\n",
            "          )\n",
            "          (sa_layer_norm): LayerNorm((768,), eps=1e-12, elementwise_affine=True)\n",
            "          (ffn): FFN(\n",
            "            (dropout): Dropout(p=0.1, inplace=False)\n",
            "            (lin1): Linear(in_features=768, out_features=3072, bias=True)\n",
            "            (lin2): Linear(in_features=3072, out_features=768, bias=True)\n",
            "          )\n",
            "          (output_layer_norm): LayerNorm((768,), eps=1e-12, elementwise_affine=True)\n",
            "        )\n",
            "        (3): TransformerBlock(\n",
            "          (attention): MultiHeadSelfAttention(\n",
            "            (dropout): Dropout(p=0.1, inplace=False)\n",
            "            (q_lin): Linear(in_features=768, out_features=768, bias=True)\n",
            "            (k_lin): Linear(in_features=768, out_features=768, bias=True)\n",
            "            (v_lin): Linear(in_features=768, out_features=768, bias=True)\n",
            "            (out_lin): Linear(in_features=768, out_features=768, bias=True)\n",
            "          )\n",
            "          (sa_layer_norm): LayerNorm((768,), eps=1e-12, elementwise_affine=True)\n",
            "          (ffn): FFN(\n",
            "            (dropout): Dropout(p=0.1, inplace=False)\n",
            "            (lin1): Linear(in_features=768, out_features=3072, bias=True)\n",
            "            (lin2): Linear(in_features=3072, out_features=768, bias=True)\n",
            "          )\n",
            "          (output_layer_norm): LayerNorm((768,), eps=1e-12, elementwise_affine=True)\n",
            "        )\n",
            "        (4): TransformerBlock(\n",
            "          (attention): MultiHeadSelfAttention(\n",
            "            (dropout): Dropout(p=0.1, inplace=False)\n",
            "            (q_lin): Linear(in_features=768, out_features=768, bias=True)\n",
            "            (k_lin): Linear(in_features=768, out_features=768, bias=True)\n",
            "            (v_lin): Linear(in_features=768, out_features=768, bias=True)\n",
            "            (out_lin): Linear(in_features=768, out_features=768, bias=True)\n",
            "          )\n",
            "          (sa_layer_norm): LayerNorm((768,), eps=1e-12, elementwise_affine=True)\n",
            "          (ffn): FFN(\n",
            "            (dropout): Dropout(p=0.1, inplace=False)\n",
            "            (lin1): Linear(in_features=768, out_features=3072, bias=True)\n",
            "            (lin2): Linear(in_features=3072, out_features=768, bias=True)\n",
            "          )\n",
            "          (output_layer_norm): LayerNorm((768,), eps=1e-12, elementwise_affine=True)\n",
            "        )\n",
            "        (5): TransformerBlock(\n",
            "          (attention): MultiHeadSelfAttention(\n",
            "            (dropout): Dropout(p=0.1, inplace=False)\n",
            "            (q_lin): Linear(in_features=768, out_features=768, bias=True)\n",
            "            (k_lin): Linear(in_features=768, out_features=768, bias=True)\n",
            "            (v_lin): Linear(in_features=768, out_features=768, bias=True)\n",
            "            (out_lin): Linear(in_features=768, out_features=768, bias=True)\n",
            "          )\n",
            "          (sa_layer_norm): LayerNorm((768,), eps=1e-12, elementwise_affine=True)\n",
            "          (ffn): FFN(\n",
            "            (dropout): Dropout(p=0.1, inplace=False)\n",
            "            (lin1): Linear(in_features=768, out_features=3072, bias=True)\n",
            "            (lin2): Linear(in_features=3072, out_features=768, bias=True)\n",
            "          )\n",
            "          (output_layer_norm): LayerNorm((768,), eps=1e-12, elementwise_affine=True)\n",
            "        )\n",
            "      )\n",
            "    )\n",
            "  )\n",
            "  (pre_classifier): Linear(in_features=768, out_features=768, bias=True)\n",
            "  (classifier): Linear(in_features=768, out_features=41, bias=True)\n",
            "  (dropout): Dropout(p=0.2, inplace=False)\n",
            ") model created\n"
          ],
          "name": "stderr"
        },
        {
          "output_type": "stream",
          "text": [
            "=============== Epoch 1 / 4 ======\n",
            "Training...\n",
            "Batch    40 of 2,385. Elapsed: 0:00:12.\n",
            "Batch    80 of 2,385. Elapsed: 0:00:24.\n",
            "Batch   120 of 2,385. Elapsed: 0:00:36.\n",
            "Batch   160 of 2,385. Elapsed: 0:00:48.\n",
            "Batch   200 of 2,385. Elapsed: 0:01:00.\n",
            "Batch   240 of 2,385. Elapsed: 0:01:12.\n",
            "Batch   280 of 2,385. Elapsed: 0:01:25.\n",
            "Batch   320 of 2,385. Elapsed: 0:01:37.\n",
            "Batch   360 of 2,385. Elapsed: 0:01:50.\n",
            "Batch   400 of 2,385. Elapsed: 0:02:03.\n",
            "Batch   440 of 2,385. Elapsed: 0:02:15.\n",
            "Batch   480 of 2,385. Elapsed: 0:02:28.\n",
            "Batch   520 of 2,385. Elapsed: 0:02:41.\n",
            "Batch   560 of 2,385. Elapsed: 0:02:54.\n",
            "Batch   600 of 2,385. Elapsed: 0:03:07.\n",
            "Batch   640 of 2,385. Elapsed: 0:03:20.\n",
            "Batch   680 of 2,385. Elapsed: 0:03:33.\n",
            "Batch   720 of 2,385. Elapsed: 0:03:46.\n",
            "Batch   760 of 2,385. Elapsed: 0:03:59.\n",
            "Batch   800 of 2,385. Elapsed: 0:04:12.\n",
            "Batch   840 of 2,385. Elapsed: 0:04:25.\n",
            "Batch   880 of 2,385. Elapsed: 0:04:38.\n",
            "Batch   920 of 2,385. Elapsed: 0:04:51.\n",
            "Batch   960 of 2,385. Elapsed: 0:05:04.\n",
            "Batch 1,000 of 2,385. Elapsed: 0:05:17.\n",
            "Batch 1,040 of 2,385. Elapsed: 0:05:30.\n",
            "Batch 1,080 of 2,385. Elapsed: 0:05:43.\n",
            "Batch 1,120 of 2,385. Elapsed: 0:05:56.\n",
            "Batch 1,160 of 2,385. Elapsed: 0:06:09.\n",
            "Batch 1,200 of 2,385. Elapsed: 0:06:22.\n",
            "Batch 1,240 of 2,385. Elapsed: 0:06:35.\n",
            "Batch 1,280 of 2,385. Elapsed: 0:06:48.\n",
            "Batch 1,320 of 2,385. Elapsed: 0:07:01.\n",
            "Batch 1,360 of 2,385. Elapsed: 0:07:13.\n",
            "Batch 1,400 of 2,385. Elapsed: 0:07:26.\n",
            "Batch 1,440 of 2,385. Elapsed: 0:07:39.\n",
            "Batch 1,480 of 2,385. Elapsed: 0:07:52.\n",
            "Batch 1,520 of 2,385. Elapsed: 0:08:05.\n",
            "Batch 1,560 of 2,385. Elapsed: 0:08:18.\n",
            "Batch 1,600 of 2,385. Elapsed: 0:08:31.\n",
            "Batch 1,640 of 2,385. Elapsed: 0:08:44.\n",
            "Batch 1,680 of 2,385. Elapsed: 0:08:57.\n",
            "Batch 1,720 of 2,385. Elapsed: 0:09:10.\n",
            "Batch 1,760 of 2,385. Elapsed: 0:09:23.\n",
            "Batch 1,800 of 2,385. Elapsed: 0:09:36.\n",
            "Batch 1,840 of 2,385. Elapsed: 0:09:49.\n",
            "Batch 1,880 of 2,385. Elapsed: 0:10:02.\n",
            "Batch 1,920 of 2,385. Elapsed: 0:10:15.\n",
            "Batch 1,960 of 2,385. Elapsed: 0:10:28.\n",
            "Batch 2,000 of 2,385. Elapsed: 0:10:41.\n",
            "Batch 2,040 of 2,385. Elapsed: 0:10:54.\n",
            "Batch 2,080 of 2,385. Elapsed: 0:11:07.\n",
            "Batch 2,120 of 2,385. Elapsed: 0:11:20.\n",
            "Batch 2,160 of 2,385. Elapsed: 0:11:33.\n",
            "Batch 2,200 of 2,385. Elapsed: 0:11:46.\n",
            "Batch 2,240 of 2,385. Elapsed: 0:11:59.\n",
            "Batch 2,280 of 2,385. Elapsed: 0:12:12.\n",
            "Batch 2,320 of 2,385. Elapsed: 0:12:25.\n",
            "Batch 2,360 of 2,385. Elapsed: 0:12:38.\n",
            " Train Accuracy: 0.55\n",
            "Average training loss: 1.6974142861066375\n",
            "Training epoch took: 0:12:46\n",
            "\n",
            "Running Validation...\n",
            " Accuracy: 0.6235157459989675\n",
            " Validation took: 0:00:51\n",
            "=============== Epoch 2 / 4 ======\n",
            "Training...\n",
            "Batch    40 of 2,385. Elapsed: 0:00:13.\n",
            "Batch    80 of 2,385. Elapsed: 0:00:26.\n",
            "Batch   120 of 2,385. Elapsed: 0:00:39.\n",
            "Batch   160 of 2,385. Elapsed: 0:00:52.\n",
            "Batch   200 of 2,385. Elapsed: 0:01:05.\n",
            "Batch   240 of 2,385. Elapsed: 0:01:18.\n",
            "Batch   280 of 2,385. Elapsed: 0:01:31.\n",
            "Batch   320 of 2,385. Elapsed: 0:01:44.\n",
            "Batch   360 of 2,385. Elapsed: 0:01:57.\n",
            "Batch   400 of 2,385. Elapsed: 0:02:10.\n",
            "Batch   440 of 2,385. Elapsed: 0:02:23.\n",
            "Batch   480 of 2,385. Elapsed: 0:02:36.\n",
            "Batch   520 of 2,385. Elapsed: 0:02:48.\n",
            "Batch   560 of 2,385. Elapsed: 0:03:01.\n",
            "Batch   600 of 2,385. Elapsed: 0:03:14.\n",
            "Batch   640 of 2,385. Elapsed: 0:03:27.\n",
            "Batch   680 of 2,385. Elapsed: 0:03:40.\n",
            "Batch   720 of 2,385. Elapsed: 0:03:53.\n",
            "Batch   760 of 2,385. Elapsed: 0:04:06.\n",
            "Batch   800 of 2,385. Elapsed: 0:04:19.\n",
            "Batch   840 of 2,385. Elapsed: 0:04:32.\n",
            "Batch   880 of 2,385. Elapsed: 0:04:45.\n",
            "Batch   920 of 2,385. Elapsed: 0:04:58.\n",
            "Batch   960 of 2,385. Elapsed: 0:05:11.\n",
            "Batch 1,000 of 2,385. Elapsed: 0:05:24.\n",
            "Batch 1,040 of 2,385. Elapsed: 0:05:37.\n",
            "Batch 1,080 of 2,385. Elapsed: 0:05:50.\n",
            "Batch 1,120 of 2,385. Elapsed: 0:06:03.\n",
            "Batch 1,160 of 2,385. Elapsed: 0:06:16.\n",
            "Batch 1,200 of 2,385. Elapsed: 0:06:29.\n",
            "Batch 1,240 of 2,385. Elapsed: 0:06:42.\n",
            "Batch 1,280 of 2,385. Elapsed: 0:06:55.\n",
            "Batch 1,320 of 2,385. Elapsed: 0:07:08.\n",
            "Batch 1,360 of 2,385. Elapsed: 0:07:21.\n",
            "Batch 1,400 of 2,385. Elapsed: 0:07:34.\n",
            "Batch 1,440 of 2,385. Elapsed: 0:07:47.\n",
            "Batch 1,480 of 2,385. Elapsed: 0:08:00.\n",
            "Batch 1,520 of 2,385. Elapsed: 0:08:12.\n",
            "Batch 1,560 of 2,385. Elapsed: 0:08:25.\n",
            "Batch 1,600 of 2,385. Elapsed: 0:08:38.\n",
            "Batch 1,640 of 2,385. Elapsed: 0:08:51.\n",
            "Batch 1,680 of 2,385. Elapsed: 0:09:04.\n",
            "Batch 1,720 of 2,385. Elapsed: 0:09:17.\n",
            "Batch 1,760 of 2,385. Elapsed: 0:09:30.\n",
            "Batch 1,800 of 2,385. Elapsed: 0:09:43.\n",
            "Batch 1,840 of 2,385. Elapsed: 0:09:56.\n",
            "Batch 1,880 of 2,385. Elapsed: 0:10:09.\n",
            "Batch 1,920 of 2,385. Elapsed: 0:10:22.\n",
            "Batch 1,960 of 2,385. Elapsed: 0:10:35.\n",
            "Batch 2,000 of 2,385. Elapsed: 0:10:48.\n",
            "Batch 2,040 of 2,385. Elapsed: 0:11:01.\n",
            "Batch 2,080 of 2,385. Elapsed: 0:11:14.\n",
            "Batch 2,120 of 2,385. Elapsed: 0:11:27.\n",
            "Batch 2,160 of 2,385. Elapsed: 0:11:40.\n",
            "Batch 2,200 of 2,385. Elapsed: 0:11:53.\n",
            "Batch 2,240 of 2,385. Elapsed: 0:12:06.\n",
            "Batch 2,280 of 2,385. Elapsed: 0:12:19.\n",
            "Batch 2,320 of 2,385. Elapsed: 0:12:32.\n",
            "Batch 2,360 of 2,385. Elapsed: 0:12:45.\n",
            " Train Accuracy: 0.65\n",
            "Average training loss: 1.2203606347617864\n",
            "Training epoch took: 0:12:53\n",
            "\n",
            "Running Validation...\n",
            " Accuracy: 0.6415264423076924\n",
            " Validation took: 0:00:51\n",
            "=============== Epoch 3 / 4 ======\n",
            "Training...\n",
            "Batch    40 of 2,385. Elapsed: 0:00:13.\n",
            "Batch    80 of 2,385. Elapsed: 0:00:26.\n",
            "Batch   120 of 2,385. Elapsed: 0:00:39.\n",
            "Batch   160 of 2,385. Elapsed: 0:00:52.\n",
            "Batch   200 of 2,385. Elapsed: 0:01:05.\n",
            "Batch   240 of 2,385. Elapsed: 0:01:18.\n",
            "Batch   280 of 2,385. Elapsed: 0:01:31.\n",
            "Batch   320 of 2,385. Elapsed: 0:01:44.\n",
            "Batch   360 of 2,385. Elapsed: 0:01:57.\n",
            "Batch   400 of 2,385. Elapsed: 0:02:10.\n",
            "Batch   440 of 2,385. Elapsed: 0:02:23.\n",
            "Batch   480 of 2,385. Elapsed: 0:02:36.\n",
            "Batch   520 of 2,385. Elapsed: 0:02:49.\n",
            "Batch   560 of 2,385. Elapsed: 0:03:02.\n",
            "Batch   600 of 2,385. Elapsed: 0:03:15.\n",
            "Batch   640 of 2,385. Elapsed: 0:03:27.\n",
            "Batch   680 of 2,385. Elapsed: 0:03:40.\n",
            "Batch   720 of 2,385. Elapsed: 0:03:53.\n",
            "Batch   760 of 2,385. Elapsed: 0:04:06.\n",
            "Batch   800 of 2,385. Elapsed: 0:04:19.\n",
            "Batch   840 of 2,385. Elapsed: 0:04:32.\n",
            "Batch   880 of 2,385. Elapsed: 0:04:45.\n",
            "Batch   920 of 2,385. Elapsed: 0:04:58.\n",
            "Batch   960 of 2,385. Elapsed: 0:05:11.\n",
            "Batch 1,000 of 2,385. Elapsed: 0:05:24.\n",
            "Batch 1,040 of 2,385. Elapsed: 0:05:37.\n",
            "Batch 1,080 of 2,385. Elapsed: 0:05:50.\n",
            "Batch 1,120 of 2,385. Elapsed: 0:06:03.\n",
            "Batch 1,160 of 2,385. Elapsed: 0:06:16.\n",
            "Batch 1,200 of 2,385. Elapsed: 0:06:29.\n",
            "Batch 1,240 of 2,385. Elapsed: 0:06:42.\n",
            "Batch 1,280 of 2,385. Elapsed: 0:06:55.\n",
            "Batch 1,320 of 2,385. Elapsed: 0:07:08.\n",
            "Batch 1,360 of 2,385. Elapsed: 0:07:21.\n",
            "Batch 1,400 of 2,385. Elapsed: 0:07:34.\n",
            "Batch 1,440 of 2,385. Elapsed: 0:07:47.\n",
            "Batch 1,480 of 2,385. Elapsed: 0:08:00.\n",
            "Batch 1,520 of 2,385. Elapsed: 0:08:13.\n",
            "Batch 1,560 of 2,385. Elapsed: 0:08:26.\n",
            "Batch 1,600 of 2,385. Elapsed: 0:08:39.\n",
            "Batch 1,640 of 2,385. Elapsed: 0:08:52.\n",
            "Batch 1,680 of 2,385. Elapsed: 0:09:04.\n",
            "Batch 1,720 of 2,385. Elapsed: 0:09:17.\n",
            "Batch 1,760 of 2,385. Elapsed: 0:09:30.\n",
            "Batch 1,800 of 2,385. Elapsed: 0:09:43.\n",
            "Batch 1,840 of 2,385. Elapsed: 0:09:56.\n",
            "Batch 1,880 of 2,385. Elapsed: 0:10:09.\n",
            "Batch 1,920 of 2,385. Elapsed: 0:10:22.\n",
            "Batch 1,960 of 2,385. Elapsed: 0:10:35.\n",
            "Batch 2,000 of 2,385. Elapsed: 0:10:48.\n",
            "Batch 2,040 of 2,385. Elapsed: 0:11:01.\n",
            "Batch 2,080 of 2,385. Elapsed: 0:11:14.\n",
            "Batch 2,120 of 2,385. Elapsed: 0:11:27.\n",
            "Batch 2,160 of 2,385. Elapsed: 0:11:40.\n",
            "Batch 2,200 of 2,385. Elapsed: 0:11:53.\n",
            "Batch 2,240 of 2,385. Elapsed: 0:12:06.\n",
            "Batch 2,280 of 2,385. Elapsed: 0:12:19.\n",
            "Batch 2,320 of 2,385. Elapsed: 0:12:32.\n",
            "Batch 2,360 of 2,385. Elapsed: 0:12:45.\n",
            " Train Accuracy: 0.69\n",
            "Average training loss: 1.062859448421926\n",
            "Training epoch took: 0:12:53\n",
            "\n",
            "Running Validation...\n",
            " Accuracy: 0.6473001097057305\n",
            " Validation took: 0:00:51\n",
            "=============== Epoch 4 / 4 ======\n",
            "Training...\n",
            "Batch    40 of 2,385. Elapsed: 0:00:13.\n",
            "Batch    80 of 2,385. Elapsed: 0:00:26.\n",
            "Batch   120 of 2,385. Elapsed: 0:00:39.\n",
            "Batch   160 of 2,385. Elapsed: 0:00:52.\n",
            "Batch   200 of 2,385. Elapsed: 0:01:05.\n",
            "Batch   240 of 2,385. Elapsed: 0:01:18.\n",
            "Batch   280 of 2,385. Elapsed: 0:01:31.\n",
            "Batch   320 of 2,385. Elapsed: 0:01:44.\n",
            "Batch   360 of 2,385. Elapsed: 0:01:57.\n",
            "Batch   400 of 2,385. Elapsed: 0:02:10.\n",
            "Batch   440 of 2,385. Elapsed: 0:02:22.\n",
            "Batch   480 of 2,385. Elapsed: 0:02:35.\n",
            "Batch   520 of 2,385. Elapsed: 0:02:48.\n",
            "Batch   560 of 2,385. Elapsed: 0:03:01.\n",
            "Batch   600 of 2,385. Elapsed: 0:03:14.\n",
            "Batch   640 of 2,385. Elapsed: 0:03:27.\n",
            "Batch   680 of 2,385. Elapsed: 0:03:40.\n",
            "Batch   720 of 2,385. Elapsed: 0:03:53.\n",
            "Batch   760 of 2,385. Elapsed: 0:04:06.\n",
            "Batch   800 of 2,385. Elapsed: 0:04:19.\n",
            "Batch   840 of 2,385. Elapsed: 0:04:32.\n",
            "Batch   880 of 2,385. Elapsed: 0:04:45.\n",
            "Batch   920 of 2,385. Elapsed: 0:04:58.\n",
            "Batch   960 of 2,385. Elapsed: 0:05:11.\n",
            "Batch 1,000 of 2,385. Elapsed: 0:05:24.\n",
            "Batch 1,040 of 2,385. Elapsed: 0:05:37.\n",
            "Batch 1,080 of 2,385. Elapsed: 0:05:50.\n",
            "Batch 1,120 of 2,385. Elapsed: 0:06:03.\n",
            "Batch 1,160 of 2,385. Elapsed: 0:06:16.\n",
            "Batch 1,200 of 2,385. Elapsed: 0:06:29.\n",
            "Batch 1,240 of 2,385. Elapsed: 0:06:42.\n",
            "Batch 1,280 of 2,385. Elapsed: 0:06:55.\n",
            "Batch 1,320 of 2,385. Elapsed: 0:07:08.\n",
            "Batch 1,360 of 2,385. Elapsed: 0:07:20.\n",
            "Batch 1,400 of 2,385. Elapsed: 0:07:33.\n",
            "Batch 1,440 of 2,385. Elapsed: 0:07:46.\n",
            "Batch 1,480 of 2,385. Elapsed: 0:07:59.\n",
            "Batch 1,520 of 2,385. Elapsed: 0:08:12.\n",
            "Batch 1,560 of 2,385. Elapsed: 0:08:25.\n",
            "Batch 1,600 of 2,385. Elapsed: 0:08:38.\n",
            "Batch 1,640 of 2,385. Elapsed: 0:08:51.\n",
            "Batch 1,680 of 2,385. Elapsed: 0:09:04.\n",
            "Batch 1,720 of 2,385. Elapsed: 0:09:17.\n",
            "Batch 1,760 of 2,385. Elapsed: 0:09:30.\n",
            "Batch 1,800 of 2,385. Elapsed: 0:09:43.\n",
            "Batch 1,840 of 2,385. Elapsed: 0:09:56.\n",
            "Batch 1,880 of 2,385. Elapsed: 0:10:09.\n",
            "Batch 1,920 of 2,385. Elapsed: 0:10:22.\n",
            "Batch 1,960 of 2,385. Elapsed: 0:10:35.\n",
            "Batch 2,000 of 2,385. Elapsed: 0:10:48.\n",
            "Batch 2,040 of 2,385. Elapsed: 0:11:01.\n",
            "Batch 2,080 of 2,385. Elapsed: 0:11:14.\n",
            "Batch 2,120 of 2,385. Elapsed: 0:11:27.\n",
            "Batch 2,160 of 2,385. Elapsed: 0:11:40.\n",
            "Batch 2,200 of 2,385. Elapsed: 0:11:53.\n",
            "Batch 2,240 of 2,385. Elapsed: 0:12:06.\n",
            "Batch 2,280 of 2,385. Elapsed: 0:12:19.\n",
            "Batch 2,320 of 2,385. Elapsed: 0:12:32.\n",
            "Batch 2,360 of 2,385. Elapsed: 0:12:45.\n",
            " Train Accuracy: 0.71\n",
            "Average training loss: 0.9681455008888644\n",
            "Training epoch took: 0:12:53\n",
            "\n",
            "Running Validation...\n",
            " Accuracy: 0.6480281201600413\n",
            " Validation took: 0:00:51\n",
            "\n",
            "Training Complete\n",
            "./models/\n",
            "model saved to ./models/news-topic-classifier/pytorch_model.bin\n"
          ],
          "name": "stdout"
        }
      ]
    },
    {
      "cell_type": "code",
      "metadata": {
        "id": "Bp7HSF0gX-83",
        "colab": {
          "base_uri": "https://localhost:8080/",
          "height": 130
        },
        "outputId": "7c8f440e-c891-4587-d0bd-b59188d2d53f"
      },
      "source": [
        "\n",
        "\n",
        "torch_model_path = ''\n",
        "onnx_model_dir = ''\n",
        "\n",
        "tto = TorchToONNX(\n",
        "    torch_model_path=,\n",
        "    onnx_model_dir=omp,\n",
        "    tokenizer= text_clas_data.tokenizer\n",
        ")"
      ],
      "execution_count": 34,
      "outputs": [
        {
          "output_type": "error",
          "ename": "SyntaxError",
          "evalue": "ignored",
          "traceback": [
            "\u001b[0;36m  File \u001b[0;32m\"<ipython-input-34-4a178b49a085>\"\u001b[0;36m, line \u001b[0;32m7\u001b[0m\n\u001b[0;31m    torch_model_path=,\u001b[0m\n\u001b[0m                     ^\u001b[0m\n\u001b[0;31mSyntaxError\u001b[0m\u001b[0;31m:\u001b[0m invalid syntax\n"
          ]
        }
      ]
    },
    {
      "cell_type": "code",
      "metadata": {
        "colab": {
          "base_uri": "https://localhost:8080/",
          "height": 204
        },
        "id": "TPY0WufZCg7a",
        "outputId": "c600eb12-e982-430e-dace-62594a43cb4b"
      },
      "source": [
        "text_clas_data.data_df.head()"
      ],
      "execution_count": null,
      "outputs": [
        {
          "output_type": "execute_result",
          "data": {
            "text/html": [
              "<div>\n",
              "<style scoped>\n",
              "    .dataframe tbody tr th:only-of-type {\n",
              "        vertical-align: middle;\n",
              "    }\n",
              "\n",
              "    .dataframe tbody tr th {\n",
              "        vertical-align: top;\n",
              "    }\n",
              "\n",
              "    .dataframe thead th {\n",
              "        text-align: right;\n",
              "    }\n",
              "</style>\n",
              "<table border=\"1\" class=\"dataframe\">\n",
              "  <thead>\n",
              "    <tr style=\"text-align: right;\">\n",
              "      <th></th>\n",
              "      <th>text</th>\n",
              "      <th>topic</th>\n",
              "    </tr>\n",
              "  </thead>\n",
              "  <tbody>\n",
              "    <tr>\n",
              "      <th>0</th>\n",
              "      <td>there were 2 mass shootings in texas last week...</td>\n",
              "      <td>crime</td>\n",
              "    </tr>\n",
              "    <tr>\n",
              "      <th>1</th>\n",
              "      <td>will smith joins diplo and nicky jam for the 2...</td>\n",
              "      <td>entertainment</td>\n",
              "    </tr>\n",
              "    <tr>\n",
              "      <th>2</th>\n",
              "      <td>hugh grant marries for the first time at age 57</td>\n",
              "      <td>entertainment</td>\n",
              "    </tr>\n",
              "    <tr>\n",
              "      <th>3</th>\n",
              "      <td>jim carrey blasts 'castrato' adam schiff and d...</td>\n",
              "      <td>entertainment</td>\n",
              "    </tr>\n",
              "    <tr>\n",
              "      <th>4</th>\n",
              "      <td>julianna margulies uses donald trump poop bags...</td>\n",
              "      <td>entertainment</td>\n",
              "    </tr>\n",
              "  </tbody>\n",
              "</table>\n",
              "</div>"
            ],
            "text/plain": [
              "                                                text          topic\n",
              "0  there were 2 mass shootings in texas last week...          crime\n",
              "1  will smith joins diplo and nicky jam for the 2...  entertainment\n",
              "2    hugh grant marries for the first time at age 57  entertainment\n",
              "3  jim carrey blasts 'castrato' adam schiff and d...  entertainment\n",
              "4  julianna margulies uses donald trump poop bags...  entertainment"
            ]
          },
          "metadata": {
            "tags": []
          },
          "execution_count": 15
        }
      ]
    },
    {
      "cell_type": "code",
      "metadata": {
        "id": "zyHMSPwwioqy"
      },
      "source": [
        "from scipy.special import softmax\n",
        "def make_predictions(model, encoded_sentence, attention_mask, token_type_id=None):\n",
        "    \n",
        "    model.eval()\n",
        "    with torch.no_grad():\n",
        "        \n",
        "        preds = model(\n",
        "                    encoded_sentence,\n",
        "                    attention_mask=attention_mask\n",
        "                ) \n",
        "            # labels are not passed here in validation\n",
        "            # Get the \"logits\" output by the model. The \"logits\" are the output\n",
        "            # values prior to applying an activation function like softmax\n",
        "        \n",
        "        logits = preds[0]\n",
        "        probabilities = torch.nn.functional.softmax(logits, dim=1)        \n",
        "        probabilities = probabilities.detach().cpu().numpy()\n",
        "        # Move logits and labels to CPU\n",
        "\n",
        "        np.set_printoptions(suppress=True)\n",
        "\n",
        "    return probabilities[-1].round(4)\n"
      ],
      "execution_count": null,
      "outputs": []
    },
    {
      "cell_type": "code",
      "metadata": {
        "colab": {
          "base_uri": "https://localhost:8080/"
        },
        "id": "muorruW8jJRO",
        "outputId": "fd4d9db5-6e9d-4fcb-91ee-5c2a69816fbc"
      },
      "source": [
        "import numpy as np\n",
        "sentence = [\n",
        "\t'The KKK used to run a youth group called the Klu Klux Kiddies. A sobering reminder of how evil shit like this starts at home.']\n",
        "\n",
        "encoded_tensor = _encode_text_into_tokens( sentence, text_clas_data.tokenizer)\n",
        "\n",
        "# print(encoded_tensor.shape, attention_mask_tensor.shape)\n",
        "\n",
        "seq_model.model.eval()\n",
        "seq_model.model.to('cpu')\n",
        "prediction_probabilities = make_predictions(\n",
        "    model=seq_model.model,\n",
        "    encoded_sentence=encoded_tensor['input_ids'], \n",
        "    attention_mask=encoded_tensor['attention_mask']\n",
        ")\n",
        "\n",
        "from collections import OrderedDict\n",
        "top_topics = OrderedDict()\n",
        "classes=text_clas_data.classes\n",
        "for i in prediction_probabilities.argsort()[-10:][::-1]:\n",
        "    top_topics[classes[i]] = prediction_probabilities[i]\n",
        "\n",
        "top_topics"
      ],
      "execution_count": null,
      "outputs": [
        {
          "output_type": "stream",
          "text": [
            "DEBUG:urllib3.connectionpool:Starting new HTTPS connection (1): huggingface.co:443\n",
            "DEBUG:urllib3.connectionpool:https://huggingface.co:443 \"HEAD /bert-base-uncased/resolve/main/vocab.txt HTTP/1.1\" 200 0\n",
            "DEBUG:urllib3.connectionpool:Starting new HTTPS connection (1): huggingface.co:443\n",
            "DEBUG:urllib3.connectionpool:https://huggingface.co:443 \"HEAD /bert-base-uncased/resolve/main/tokenizer.json HTTP/1.1\" 200 0\n",
            "DEBUG:data-preprocessing.log:Encoding input sentences completed\n"
          ],
          "name": "stderr"
        },
        {
          "output_type": "execute_result",
          "data": {
            "text/plain": [
              "OrderedDict([('politics', 0.6277),\n",
              "             ('black voices', 0.0898),\n",
              "             ('queer voices', 0.0752),\n",
              "             ('crime', 0.0716),\n",
              "             ('entertainment', 0.0501),\n",
              "             ('comedy', 0.0192),\n",
              "             ('religion', 0.0159),\n",
              "             ('weird news', 0.0086),\n",
              "             ('business', 0.0062),\n",
              "             ('impact', 0.005)])"
            ]
          },
          "metadata": {
            "tags": []
          },
          "execution_count": 32
        }
      ]
    },
    {
      "cell_type": "code",
      "metadata": {
        "colab": {
          "base_uri": "https://localhost:8080/"
        },
        "id": "28ZbLubDKLZt",
        "outputId": "a9ef1688-b6c0-463e-9cb6-4812ff5a583d"
      },
      "source": [
        "prediction_probabilities"
      ],
      "execution_count": null,
      "outputs": [
        {
          "output_type": "execute_result",
          "data": {
            "text/plain": [
              "array([0.0008, 0.0031, 0.0898, 0.0062, 0.0009, 0.0192, 0.0716, 0.0003,\n",
              "       0.0003, 0.0002, 0.0501, 0.0003, 0.0003, 0.0009, 0.0012, 0.001 ,\n",
              "       0.0019, 0.0002, 0.005 , 0.0045, 0.0016, 0.0002, 0.0004, 0.0003,\n",
              "       0.6277, 0.0752, 0.0159, 0.0003, 0.0008, 0.0001, 0.0001, 0.0011,\n",
              "       0.0017, 0.0004, 0.0009, 0.0001, 0.0086, 0.0008, 0.0026, 0.0006,\n",
              "       0.0029], dtype=float32)"
            ]
          },
          "metadata": {
            "tags": []
          },
          "execution_count": 31
        }
      ]
    },
    {
      "cell_type": "code",
      "metadata": {
        "colab": {
          "base_uri": "https://localhost:8080/",
          "height": 1000
        },
        "id": "kqsKbgaJjdGj",
        "outputId": "52bedc20-cbfa-4d56-83b1-ca7972cc9ae6"
      },
      "source": [
        "??text_clas_data.data_df['topic'].value_counts().plot(kind='bar', size=(10,12))"
      ],
      "execution_count": null,
      "outputs": [
        {
          "output_type": "execute_result",
          "data": {
            "text/plain": [
              "<matplotlib.axes._subplots.AxesSubplot at 0x7f0c6b81ff60>"
            ]
          },
          "metadata": {
            "tags": []
          },
          "execution_count": 18
        },
        {
          "output_type": "stream",
          "text": [
            "DEBUG:matplotlib.font_manager:findfont: Matching sans\\-serif:style=normal:variant=normal:weight=normal:stretch=normal:size=10.0.\n",
            "DEBUG:matplotlib.font_manager:findfont: score(<Font 'cmr10' (cmr10.ttf) normal normal 400 normal>) = 10.05\n",
            "DEBUG:matplotlib.font_manager:findfont: score(<Font 'DejaVu Sans' (DejaVuSans.ttf) normal normal 400 normal>) = 0.05\n",
            "DEBUG:matplotlib.font_manager:findfont: score(<Font 'STIXGeneral' (STIXGeneralBol.ttf) normal normal 700 normal>) = 10.335\n",
            "DEBUG:matplotlib.font_manager:findfont: score(<Font 'DejaVu Sans Mono' (DejaVuSansMono.ttf) normal normal 400 normal>) = 10.05\n",
            "DEBUG:matplotlib.font_manager:findfont: score(<Font 'STIXNonUnicode' (STIXNonUniBol.ttf) normal normal 700 normal>) = 10.335\n",
            "DEBUG:matplotlib.font_manager:findfont: score(<Font 'STIXSizeFourSym' (STIXSizFourSymBol.ttf) normal normal 700 normal>) = 10.335\n",
            "DEBUG:matplotlib.font_manager:findfont: score(<Font 'cmtt10' (cmtt10.ttf) normal normal 400 normal>) = 10.05\n",
            "DEBUG:matplotlib.font_manager:findfont: score(<Font 'STIXNonUnicode' (STIXNonUniIta.ttf) italic normal 400 normal>) = 11.05\n",
            "DEBUG:matplotlib.font_manager:findfont: score(<Font 'DejaVu Serif' (DejaVuSerif-Bold.ttf) normal normal 700 normal>) = 10.335\n",
            "DEBUG:matplotlib.font_manager:findfont: score(<Font 'STIXGeneral' (STIXGeneralItalic.ttf) italic normal 400 normal>) = 11.05\n",
            "DEBUG:matplotlib.font_manager:findfont: score(<Font 'DejaVu Sans' (DejaVuSans-Bold.ttf) normal normal 700 normal>) = 0.33499999999999996\n",
            "DEBUG:matplotlib.font_manager:findfont: score(<Font 'STIXGeneral' (STIXGeneral.ttf) normal normal regular normal>) = 10.05\n",
            "DEBUG:matplotlib.font_manager:findfont: score(<Font 'STIXSizeTwoSym' (STIXSizTwoSymBol.ttf) normal normal 700 normal>) = 10.335\n",
            "DEBUG:matplotlib.font_manager:findfont: score(<Font 'STIXSizeFiveSym' (STIXSizFiveSymReg.ttf) normal normal regular normal>) = 10.05\n",
            "DEBUG:matplotlib.font_manager:findfont: score(<Font 'STIXSizeTwoSym' (STIXSizTwoSymReg.ttf) normal normal regular normal>) = 10.05\n",
            "DEBUG:matplotlib.font_manager:findfont: score(<Font 'DejaVu Sans' (DejaVuSans-BoldOblique.ttf) oblique normal 700 normal>) = 1.335\n",
            "DEBUG:matplotlib.font_manager:findfont: score(<Font 'DejaVu Serif' (DejaVuSerif.ttf) normal normal 400 normal>) = 10.05\n",
            "DEBUG:matplotlib.font_manager:findfont: score(<Font 'STIXSizeFourSym' (STIXSizFourSymReg.ttf) normal normal regular normal>) = 10.05\n",
            "DEBUG:matplotlib.font_manager:findfont: score(<Font 'cmsy10' (cmsy10.ttf) normal normal 400 normal>) = 10.05\n",
            "DEBUG:matplotlib.font_manager:findfont: score(<Font 'cmss10' (cmss10.ttf) normal normal 400 normal>) = 10.05\n",
            "DEBUG:matplotlib.font_manager:findfont: score(<Font 'STIXNonUnicode' (STIXNonUni.ttf) normal normal regular normal>) = 10.05\n",
            "DEBUG:matplotlib.font_manager:findfont: score(<Font 'DejaVu Sans' (DejaVuSans-Oblique.ttf) oblique normal 400 normal>) = 1.05\n",
            "DEBUG:matplotlib.font_manager:findfont: score(<Font 'DejaVu Sans Mono' (DejaVuSansMono-BoldOblique.ttf) oblique normal 700 normal>) = 11.335\n",
            "DEBUG:matplotlib.font_manager:findfont: score(<Font 'STIXSizeOneSym' (STIXSizOneSymReg.ttf) normal normal regular normal>) = 10.05\n",
            "DEBUG:matplotlib.font_manager:findfont: score(<Font 'STIXSizeOneSym' (STIXSizOneSymBol.ttf) normal normal 700 normal>) = 10.335\n",
            "DEBUG:matplotlib.font_manager:findfont: score(<Font 'cmex10' (cmex10.ttf) normal normal 400 normal>) = 10.05\n",
            "DEBUG:matplotlib.font_manager:findfont: score(<Font 'STIXSizeThreeSym' (STIXSizThreeSymReg.ttf) normal normal regular normal>) = 10.05\n",
            "DEBUG:matplotlib.font_manager:findfont: score(<Font 'DejaVu Serif' (DejaVuSerif-BoldItalic.ttf) italic normal 700 normal>) = 11.335\n",
            "DEBUG:matplotlib.font_manager:findfont: score(<Font 'STIXSizeThreeSym' (STIXSizThreeSymBol.ttf) normal normal 700 normal>) = 10.335\n",
            "DEBUG:matplotlib.font_manager:findfont: score(<Font 'DejaVu Sans Display' (DejaVuSansDisplay.ttf) normal normal 400 normal>) = 10.05\n",
            "DEBUG:matplotlib.font_manager:findfont: score(<Font 'DejaVu Sans Mono' (DejaVuSansMono-Bold.ttf) normal normal 700 normal>) = 10.335\n",
            "DEBUG:matplotlib.font_manager:findfont: score(<Font 'cmmi10' (cmmi10.ttf) normal normal 400 normal>) = 10.05\n",
            "DEBUG:matplotlib.font_manager:findfont: score(<Font 'STIXGeneral' (STIXGeneralBolIta.ttf) italic normal 700 normal>) = 11.335\n",
            "DEBUG:matplotlib.font_manager:findfont: score(<Font 'STIXNonUnicode' (STIXNonUniBolIta.ttf) italic normal 700 normal>) = 11.335\n",
            "DEBUG:matplotlib.font_manager:findfont: score(<Font 'DejaVu Serif' (DejaVuSerif-Italic.ttf) italic normal 400 normal>) = 11.05\n",
            "DEBUG:matplotlib.font_manager:findfont: score(<Font 'DejaVu Sans Mono' (DejaVuSansMono-Oblique.ttf) oblique normal 400 normal>) = 11.05\n",
            "DEBUG:matplotlib.font_manager:findfont: score(<Font 'DejaVu Serif Display' (DejaVuSerifDisplay.ttf) normal normal 400 normal>) = 10.05\n",
            "DEBUG:matplotlib.font_manager:findfont: score(<Font 'cmb10' (cmb10.ttf) normal normal 400 normal>) = 10.05\n",
            "DEBUG:matplotlib.font_manager:findfont: score(<Font 'Liberation Sans Narrow' (LiberationSansNarrow-Bold.ttf) normal normal 700 condensed>) = 10.535\n",
            "DEBUG:matplotlib.font_manager:findfont: score(<Font 'Liberation Serif' (LiberationSerif-Regular.ttf) normal normal 400 normal>) = 10.05\n",
            "DEBUG:matplotlib.font_manager:findfont: score(<Font 'Liberation Sans Narrow' (LiberationSansNarrow-BoldItalic.ttf) italic normal 700 condensed>) = 11.535\n",
            "DEBUG:matplotlib.font_manager:findfont: score(<Font 'Liberation Sans Narrow' (LiberationSansNarrow-Regular.ttf) normal normal 400 condensed>) = 10.25\n",
            "DEBUG:matplotlib.font_manager:findfont: score(<Font 'Liberation Mono' (LiberationMono-BoldItalic.ttf) italic normal 700 normal>) = 11.335\n",
            "DEBUG:matplotlib.font_manager:findfont: score(<Font 'Liberation Serif' (LiberationSerif-Bold.ttf) normal normal 700 normal>) = 10.335\n",
            "DEBUG:matplotlib.font_manager:findfont: score(<Font 'Liberation Mono' (LiberationMono-Italic.ttf) italic normal 400 normal>) = 11.05\n",
            "DEBUG:matplotlib.font_manager:findfont: score(<Font 'Liberation Serif' (LiberationSerif-Italic.ttf) italic normal 400 normal>) = 11.05\n",
            "DEBUG:matplotlib.font_manager:findfont: score(<Font 'Liberation Mono' (LiberationMono-Regular.ttf) normal normal 400 normal>) = 10.05\n",
            "DEBUG:matplotlib.font_manager:findfont: score(<Font 'Liberation Mono' (LiberationMono-Bold.ttf) normal normal 700 normal>) = 10.335\n",
            "DEBUG:matplotlib.font_manager:findfont: score(<Font 'Liberation Sans Narrow' (LiberationSansNarrow-Italic.ttf) italic normal 400 condensed>) = 11.25\n",
            "DEBUG:matplotlib.font_manager:findfont: score(<Font 'Liberation Sans' (LiberationSans-BoldItalic.ttf) italic normal 700 normal>) = 11.335\n",
            "DEBUG:matplotlib.font_manager:findfont: score(<Font 'Liberation Sans' (LiberationSans-Italic.ttf) italic normal 400 normal>) = 11.05\n",
            "DEBUG:matplotlib.font_manager:findfont: score(<Font 'Liberation Serif' (LiberationSerif-BoldItalic.ttf) italic normal 700 normal>) = 11.335\n",
            "DEBUG:matplotlib.font_manager:findfont: score(<Font 'Humor Sans' (Humor-Sans.ttf) normal normal 400 normal>) = 10.05\n",
            "DEBUG:matplotlib.font_manager:findfont: score(<Font 'Liberation Sans' (LiberationSans-Regular.ttf) normal normal 400 normal>) = 10.05\n",
            "DEBUG:matplotlib.font_manager:findfont: score(<Font 'Liberation Sans' (LiberationSans-Bold.ttf) normal normal 700 normal>) = 10.335\n",
            "DEBUG:matplotlib.font_manager:findfont: Matching sans\\-serif:style=normal:variant=normal:weight=normal:stretch=normal:size=10.0 to DejaVu Sans ('/usr/local/lib/python3.6/dist-packages/matplotlib/mpl-data/fonts/ttf/DejaVuSans.ttf') with score of 0.050000.\n"
          ],
          "name": "stderr"
        },
        {
          "output_type": "display_data",
          "data": {
            "image/png": "[encoded data removed]",
            "text/plain": [
              "<Figure size 432x288 with 1 Axes>"
            ]
          },
          "metadata": {
            "tags": [],
            "needs_background": "light"
          }
        }
      ]
    },
    {
      "cell_type": "code",
      "metadata": {
        "id": "TmLP5vUTm1-T"
      },
      "source": [
        ""
      ],
      "execution_count": null,
      "outputs": []
    }
  ]
}